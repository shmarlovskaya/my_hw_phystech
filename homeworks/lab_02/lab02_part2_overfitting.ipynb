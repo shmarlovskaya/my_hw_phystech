{
 "cells": [
  {
   "cell_type": "markdown",
   "metadata": {
    "colab_type": "text",
    "id": "NFmOh482SyEF"
   },
   "source": [
    "## Lab 2\n",
    "### Part 2: Dealing with overfitting"
   ]
  },
  {
   "cell_type": "markdown",
   "metadata": {
    "colab_type": "text",
    "id": "AjzAuO3oSvsI"
   },
   "source": [
    "Today we work with [Fashion-MNIST dataset](https://github.com/zalandoresearch/fashion-mnist) (*hint: it is available in `torchvision`*).\n",
    "\n",
    "Your goal for today:\n",
    "1. Train a FC (fully-connected) network that achieves >= 0.885 test accuracy.\n",
    "2. Cause considerable overfitting by modifying the network (e.g. increasing the number of network parameters and/or layers) and demonstrate in in the appropriate way (e.g. plot loss and accurasy on train and validation set w.r.t. network complexity).\n",
    "3. Try to deal with overfitting (at least partially) by using regularization techniques (Dropout/Batchnorm/...) and demonstrate the results.\n",
    "\n",
    "__Please, write a small report describing your ideas, tries and achieved results in the end of this file.__\n",
    "\n",
    "*Note*: Tasks 2 and 3 are interrelated, in task 3 your goal is to make the network from task 2 less prone to overfitting. Task 1 is independent from 2 and 3.\n",
    "\n",
    "*Note 2*: We recomment to use Google Colab or other machine with GPU acceleration."
   ]
  },
  {
   "cell_type": "code",
   "execution_count": 1,
   "metadata": {
    "colab": {},
    "colab_type": "code",
    "id": "_KBld6VOSwhW"
   },
   "outputs": [],
   "source": [
    "import torch\n",
    "import torch.nn as nn\n",
    "import torchvision\n",
    "import torchvision.transforms as transforms\n",
    "import torchsummary\n",
    "from torch.utils.data import Subset\n",
    "from IPython.display import clear_output\n",
    "from matplotlib import pyplot as plt\n",
    "from matplotlib.pyplot import figure\n",
    "import numpy as np\n",
    "import os\n",
    "import time"
   ]
  },
  {
   "cell_type": "code",
   "execution_count": 2,
   "metadata": {
    "colab": {
     "base_uri": "https://localhost:8080/",
     "height": 35
    },
    "colab_type": "code",
    "id": "EdLOG0XqS_g5",
    "outputId": "1a58887c-24fc-4315-bb85-bdc88f4f485e"
   },
   "outputs": [
    {
     "name": "stdout",
     "output_type": "stream",
     "text": [
      "Directory fmnist already exists!\n"
     ]
    }
   ],
   "source": [
    "# Technical function\n",
    "def mkdir(path):\n",
    "    if not os.path.exists(root_path):\n",
    "        os.mkdir(root_path)\n",
    "        print('Directory', path, 'is created!')\n",
    "    else:\n",
    "        print('Directory', path, 'already exists!')\n",
    "        \n",
    "root_path = 'fmnist'\n",
    "mkdir(root_path)"
   ]
  },
  {
   "cell_type": "code",
   "execution_count": 3,
   "metadata": {
    "colab": {
     "base_uri": "https://localhost:8080/",
     "height": 397,
     "referenced_widgets": [
      "a00cbbf2385c426bb848399f3c13b70f",
      "4c7a7ac1286649c4804fefd359a1be74",
      "9faad8d0c45746ab8e06e120bb3ec0b6",
      "590134f878a74adb98fd129816fde03c",
      "92685fe1840a4555a6962c006ea90c23",
      "aa0dc032d1644bad8e741cf1696d9a70",
      "4296a7e9ab704f019451001dd12c4f46",
      "29b0a8c468e6410fb390b903559d6ef5",
      "fb66cde27d0849bba4947c024e198f7f",
      "bebcff464bfc44ffa82e311a39cae7d7",
      "b9d32ac7b88c4f4e900b160f05c016a3",
      "b2f66cc8930240a5b74d5480377496ed",
      "c1d770aa9eb34e4d942967c507f94009",
      "f280e146d6c54fb59f8ce36f2d1cc6a3",
      "9761d073bcef4c15ad64b01d7bef3561",
      "56418812bda04e7293dd8839018ae839",
      "e6efdf93b1444984810dd32d506227d5",
      "583e6f0878e04a0bbebf5d80d9d712dc",
      "0078023356f142bdbe4e13a42df460fb",
      "01658e0aebd84db9912ea456bd1ad030",
      "54a1be4ee00c44a0b72192135f62fa16",
      "df2e6c22b8af4a2e95bdd85fb48290a6",
      "835f930bb1504982aa56c835dc7b7df7",
      "30540b2b63064d828fd8502fd6d08877",
      "e734818e32a54c71b6397ef84b35bf07",
      "029f1768c5734beab39a592b44f75a9d",
      "bf33fa62bd4546bdbe142239f472fbb3",
      "ca04c2ebb96f48109ef440c260aa125a",
      "26a1b39d42ee490b8732f0e3856c9114",
      "545f1e0393b64b1b94710674213f4af8",
      "181b94c37c72459ca284267bc7675469",
      "748c2a2536394a50aab12eef92442fcb"
     ]
    },
    "colab_type": "code",
    "id": "qt6LE7XaTDT9",
    "outputId": "ab967f1e-8bf2-4199-cbd7-75806359ee1b"
   },
   "outputs": [],
   "source": [
    "download = True\n",
    "train_transform = transforms.ToTensor()\n",
    "test_transform = transforms.ToTensor()\n",
    "transforms.Compose((transforms.ToTensor()))\n",
    "\n",
    "\n",
    "fmnist_dataset_train = torchvision.datasets.FashionMNIST(root_path, \n",
    "                                                        train=True, \n",
    "                                                        transform=train_transform,\n",
    "                                                        target_transform=None,\n",
    "                                                        download=download)\n",
    "fmnist_dataset_test = torchvision.datasets.FashionMNIST(root_path, \n",
    "                                                       train=False, \n",
    "                                                       transform=test_transform,\n",
    "                                                       target_transform=None,\n",
    "                                                       download=download)"
   ]
  },
  {
   "cell_type": "code",
   "execution_count": 4,
   "metadata": {
    "colab": {},
    "colab_type": "code",
    "id": "71YP0SPwTIxD"
   },
   "outputs": [],
   "source": [
    "train_loader = torch.utils.data.DataLoader(fmnist_dataset_train, \n",
    "                                           batch_size=128,\n",
    "                                           shuffle=True,\n",
    "                                           num_workers=2)\n",
    "test_loader = torch.utils.data.DataLoader(fmnist_dataset_test,\n",
    "                                          batch_size=256,\n",
    "                                          shuffle=False,\n",
    "                                          num_workers=2)"
   ]
  },
  {
   "cell_type": "code",
   "execution_count": 5,
   "metadata": {
    "colab": {
     "base_uri": "https://localhost:8080/",
     "height": 35
    },
    "colab_type": "code",
    "id": "v_YFmF7NTWrQ",
    "outputId": "6b517f52-5fc5-482e-cc8e-cd6b3f1b72f1"
   },
   "outputs": [
    {
     "data": {
      "text/plain": [
       "10000"
      ]
     },
     "execution_count": 5,
     "metadata": {},
     "output_type": "execute_result"
    }
   ],
   "source": [
    "len(fmnist_dataset_test)"
   ]
  },
  {
   "cell_type": "code",
   "execution_count": 6,
   "metadata": {
    "colab": {
     "base_uri": "https://localhost:8080/",
     "height": 71
    },
    "colab_type": "code",
    "id": "aHca15bOTY4B",
    "outputId": "7eb477ef-816d-418c-f5c3-ade63d4cf915"
   },
   "outputs": [
    {
     "name": "stdout",
     "output_type": "stream",
     "text": [
      "torch.Size([128, 1, 28, 28])\n",
      "torch.Size([128])\n",
      "128\n"
     ]
    }
   ],
   "source": [
    "for img, label in train_loader:\n",
    "    print(img.shape)\n",
    "#     print(img)\n",
    "    print(label.shape)\n",
    "    print(label.size(0))\n",
    "    break"
   ]
  },
  {
   "cell_type": "markdown",
   "metadata": {
    "colab_type": "text",
    "id": "b6OOOffHTfX5"
   },
   "source": [
    "### Task 1\n",
    "Train a network that achieves $\\geq 0.885$ test accuracy. It's fine to use only Linear (`nn.Linear`) layers and activations/dropout/batchnorm. Convolutional layers might be a great use, but we will meet them a bit later."
   ]
  },
  {
   "cell_type": "code",
   "execution_count": 7,
   "metadata": {
    "colab": {},
    "colab_type": "code",
    "id": "ftpkTjxlTcFx"
   },
   "outputs": [],
   "source": [
    "# Класс TinyNeuralNetwork реализует простую нейронную сеть для классификации изображений\n",
    "class TinyNetModel(nn.Module):\n",
    "    def __init__(self, input_dim=28*28, output_classes=10, channels=1):\n",
    "        super(TinyNetModel, self).__init__()\n",
    "        \n",
    "        # Определяем архитектуру сети с использованием последовательной модели\n",
    "        self.flatten_layer = nn.Flatten()  # Преобразование данных в одномерный вектор\n",
    "        self.hidden_layers = nn.Sequential(\n",
    "            nn.Linear(input_dim, 300),       # Первый слой, 300 нейронов\n",
    "            nn.BatchNorm1d(300),            # Нормализация для ускорения обучения\n",
    "            nn.ReLU(),                      # Активация ReLU\n",
    "            nn.Dropout(0.5),                # Dropout для предотвращения переобучения\n",
    "            nn.Linear(300, 100),            # Второй слой, 100 нейронов\n",
    "            nn.ReLU(),                      # Активация ReLU\n",
    "            nn.Dropout(0.5),                # Dropout\n",
    "        )\n",
    "        self.output_layer = nn.Sequential(\n",
    "            nn.Linear(100, output_classes), # Выходной слой, число классов = output_classes\n",
    "            nn.LogSoftmax(dim=1)            # Применение LogSoftmax для логарифма вероятностей\n",
    "        )\n",
    "\n",
    "    def forward(self, x):\n",
    "        # Прямой проход через модель\n",
    "        x = self.flatten_layer(x)        # Разворачивание входного тензора\n",
    "        x = self.hidden_layers(x)        # Проход через скрытые слои\n",
    "        x = self.output_layer(x)         # Преобразование к вероятностному пространству\n",
    "        return x\n"
   ]
  },
  {
   "cell_type": "code",
   "execution_count": 8,
   "metadata": {},
   "outputs": [
    {
     "name": "stdout",
     "output_type": "stream",
     "text": [
      "----------------------------------------------------------------\n",
      "        Layer (type)               Output Shape         Param #\n",
      "================================================================\n",
      "           Flatten-1                  [-1, 784]               0\n",
      "            Linear-2                  [-1, 300]         235,500\n",
      "       BatchNorm1d-3                  [-1, 300]             600\n",
      "              ReLU-4                  [-1, 300]               0\n",
      "           Dropout-5                  [-1, 300]               0\n",
      "            Linear-6                  [-1, 100]          30,100\n",
      "              ReLU-7                  [-1, 100]               0\n",
      "           Dropout-8                  [-1, 100]               0\n",
      "            Linear-9                   [-1, 10]           1,010\n",
      "       LogSoftmax-10                   [-1, 10]               0\n",
      "================================================================\n",
      "Total params: 267,210\n",
      "Trainable params: 267,210\n",
      "Non-trainable params: 0\n",
      "----------------------------------------------------------------\n",
      "Input size (MB): 0.00\n",
      "Forward/backward pass size (MB): 0.02\n",
      "Params size (MB): 1.02\n",
      "Estimated Total Size (MB): 1.04\n",
      "----------------------------------------------------------------\n"
     ]
    }
   ],
   "source": [
    "# Импорт необходимых библиотек\n",
    "import torch\n",
    "import torch.nn as nn\n",
    "import torchsummary\n",
    "\n",
    "# Определяем устройство для вычислений (CPU или CUDA, если доступно)\n",
    "device = torch.device('cpu')  # Устанавливаем устройство явно\n",
    "\n",
    "# Инициализация и перенос модели на устройство\n",
    "model = TinyNetModel().to(device)  # TinyNetModel — это класс, определённый ранее\n",
    "\n",
    "# Использование torchsummary для получения структуры модели\n",
    "# Передаём размер входных данных (размер тензора) и указываем устройство\n",
    "torchsummary.summary(model=model, input_size=(28*28,), device=str(device))"
   ]
  },
  {
   "cell_type": "markdown",
   "metadata": {
    "colab_type": "text",
    "id": "544PGKEnjPr5"
   },
   "source": [
    "Your experiments come here:"
   ]
  },
  {
   "cell_type": "code",
   "execution_count": 9,
   "metadata": {
    "colab": {
     "base_uri": "https://localhost:8080/",
     "height": 607
    },
    "colab_type": "code",
    "id": "i3POFj90Ti-6",
    "outputId": "82e7e921-541b-4657-f78d-563de48b07c7"
   },
   "outputs": [],
   "source": [
    "import torch\n",
    "import torch.nn as nn\n",
    "import torch.optim as optim\n",
    "\n",
    "neural_net = TinyNetModel()\n",
    "# Инициализация оптимизатора Adam с явным указанием параметров\n",
    "learning_rate = 0.001  # Уровень обучения\n",
    "optimizer = optim.Adam(params=neural_net.parameters(), lr=learning_rate)\n",
    "\n",
    "# Определение функции ошибки (потерь) для многоклассовой классификации\n",
    "loss_function = nn.CrossEntropyLoss()  # Кросс-энтропия для задачи классификации"
   ]
  },
  {
   "cell_type": "markdown",
   "metadata": {},
   "source": [
    "# Train Function"
   ]
  },
  {
   "cell_type": "code",
   "execution_count": 10,
   "metadata": {},
   "outputs": [
    {
     "name": "stdout",
     "output_type": "stream",
     "text": [
      "--- Эпоха 1 ---\n"
     ]
    },
    {
     "name": "stderr",
     "output_type": "stream",
     "text": [
      "Обучение (эпоха 1): 100%|██████████| 469/469 [00:05<00:00, 84.63it/s] \n",
      "Тестирование (эпоха 1): 100%|██████████| 40/40 [00:03<00:00, 12.68it/s]\n"
     ]
    },
    {
     "name": "stdout",
     "output_type": "stream",
     "text": [
      "Эпоха: 1 | Потеря (тест): 0.4186 | Точность (тест): 84.56%\n",
      "--- Эпоха 2 ---\n"
     ]
    },
    {
     "name": "stderr",
     "output_type": "stream",
     "text": [
      "Обучение (эпоха 2): 100%|██████████| 469/469 [00:05<00:00, 84.67it/s] \n",
      "Тестирование (эпоха 2): 100%|██████████| 40/40 [00:03<00:00, 13.13it/s]\n"
     ]
    },
    {
     "name": "stdout",
     "output_type": "stream",
     "text": [
      "Эпоха: 2 | Потеря (тест): 0.3914 | Точность (тест): 85.47%\n",
      "--- Эпоха 3 ---\n"
     ]
    },
    {
     "name": "stderr",
     "output_type": "stream",
     "text": [
      "Обучение (эпоха 3): 100%|██████████| 469/469 [00:05<00:00, 84.96it/s] \n",
      "Тестирование (эпоха 3): 100%|██████████| 40/40 [00:03<00:00, 12.99it/s]\n"
     ]
    },
    {
     "name": "stdout",
     "output_type": "stream",
     "text": [
      "Эпоха: 3 | Потеря (тест): 0.3748 | Точность (тест): 86.06%\n",
      "--- Эпоха 4 ---\n"
     ]
    },
    {
     "name": "stderr",
     "output_type": "stream",
     "text": [
      "Обучение (эпоха 4): 100%|██████████| 469/469 [00:05<00:00, 84.90it/s] \n",
      "Тестирование (эпоха 4): 100%|██████████| 40/40 [00:03<00:00, 12.82it/s]\n"
     ]
    },
    {
     "name": "stdout",
     "output_type": "stream",
     "text": [
      "Эпоха: 4 | Потеря (тест): 0.3683 | Точность (тест): 86.33%\n",
      "--- Эпоха 5 ---\n"
     ]
    },
    {
     "name": "stderr",
     "output_type": "stream",
     "text": [
      "Обучение (эпоха 5): 100%|██████████| 469/469 [00:05<00:00, 85.01it/s] \n",
      "Тестирование (эпоха 5): 100%|██████████| 40/40 [00:03<00:00, 12.86it/s]\n"
     ]
    },
    {
     "name": "stdout",
     "output_type": "stream",
     "text": [
      "Эпоха: 5 | Потеря (тест): 0.3536 | Точность (тест): 86.95%\n",
      "--- Эпоха 6 ---\n"
     ]
    },
    {
     "name": "stderr",
     "output_type": "stream",
     "text": [
      "Обучение (эпоха 6): 100%|██████████| 469/469 [00:05<00:00, 83.35it/s] \n",
      "Тестирование (эпоха 6): 100%|██████████| 40/40 [00:03<00:00, 12.53it/s]\n"
     ]
    },
    {
     "name": "stdout",
     "output_type": "stream",
     "text": [
      "Эпоха: 6 | Потеря (тест): 0.3519 | Точность (тест): 87.09%\n",
      "--- Эпоха 7 ---\n"
     ]
    },
    {
     "name": "stderr",
     "output_type": "stream",
     "text": [
      "Обучение (эпоха 7): 100%|██████████| 469/469 [00:05<00:00, 84.36it/s] \n",
      "Тестирование (эпоха 7): 100%|██████████| 40/40 [00:03<00:00, 12.88it/s]\n"
     ]
    },
    {
     "name": "stdout",
     "output_type": "stream",
     "text": [
      "Эпоха: 7 | Потеря (тест): 0.3537 | Точность (тест): 86.97%\n",
      "--- Эпоха 8 ---\n"
     ]
    },
    {
     "name": "stderr",
     "output_type": "stream",
     "text": [
      "Обучение (эпоха 8): 100%|██████████| 469/469 [00:05<00:00, 84.42it/s] \n",
      "Тестирование (эпоха 8): 100%|██████████| 40/40 [00:03<00:00, 12.70it/s]\n"
     ]
    },
    {
     "name": "stdout",
     "output_type": "stream",
     "text": [
      "Эпоха: 8 | Потеря (тест): 0.3359 | Точность (тест): 87.67%\n",
      "--- Эпоха 9 ---\n"
     ]
    },
    {
     "name": "stderr",
     "output_type": "stream",
     "text": [
      "Обучение (эпоха 9): 100%|██████████| 469/469 [00:05<00:00, 83.00it/s] \n",
      "Тестирование (эпоха 9): 100%|██████████| 40/40 [00:03<00:00, 12.73it/s]\n"
     ]
    },
    {
     "name": "stdout",
     "output_type": "stream",
     "text": [
      "Эпоха: 9 | Потеря (тест): 0.3409 | Точность (тест): 87.45%\n",
      "--- Эпоха 10 ---\n"
     ]
    },
    {
     "name": "stderr",
     "output_type": "stream",
     "text": [
      "Обучение (эпоха 10): 100%|██████████| 469/469 [00:05<00:00, 81.79it/s] \n",
      "Тестирование (эпоха 10): 100%|██████████| 40/40 [00:03<00:00, 12.81it/s]\n"
     ]
    },
    {
     "name": "stdout",
     "output_type": "stream",
     "text": [
      "Эпоха: 10 | Потеря (тест): 0.3336 | Точность (тест): 87.77%\n",
      "--- Эпоха 11 ---\n"
     ]
    },
    {
     "name": "stderr",
     "output_type": "stream",
     "text": [
      "Обучение (эпоха 11): 100%|██████████| 469/469 [00:05<00:00, 83.75it/s] \n",
      "Тестирование (эпоха 11): 100%|██████████| 40/40 [00:03<00:00, 12.53it/s]\n"
     ]
    },
    {
     "name": "stdout",
     "output_type": "stream",
     "text": [
      "Эпоха: 11 | Потеря (тест): 0.3316 | Точность (тест): 87.75%\n",
      "--- Эпоха 12 ---\n"
     ]
    },
    {
     "name": "stderr",
     "output_type": "stream",
     "text": [
      "Обучение (эпоха 12): 100%|██████████| 469/469 [00:06<00:00, 76.29it/s] \n",
      "Тестирование (эпоха 12): 100%|██████████| 40/40 [00:03<00:00, 10.34it/s]\n"
     ]
    },
    {
     "name": "stdout",
     "output_type": "stream",
     "text": [
      "Эпоха: 12 | Потеря (тест): 0.3362 | Точность (тест): 87.71%\n",
      "--- Эпоха 13 ---\n"
     ]
    },
    {
     "name": "stderr",
     "output_type": "stream",
     "text": [
      "Обучение (эпоха 13): 100%|██████████| 469/469 [00:06<00:00, 76.26it/s] \n",
      "Тестирование (эпоха 13): 100%|██████████| 40/40 [00:03<00:00, 12.08it/s]\n"
     ]
    },
    {
     "name": "stdout",
     "output_type": "stream",
     "text": [
      "Эпоха: 13 | Потеря (тест): 0.3213 | Точность (тест): 88.08%\n",
      "--- Эпоха 14 ---\n"
     ]
    },
    {
     "name": "stderr",
     "output_type": "stream",
     "text": [
      "Обучение (эпоха 14): 100%|██████████| 469/469 [00:05<00:00, 80.63it/s] \n",
      "Тестирование (эпоха 14): 100%|██████████| 40/40 [00:03<00:00, 12.73it/s]\n"
     ]
    },
    {
     "name": "stdout",
     "output_type": "stream",
     "text": [
      "Эпоха: 14 | Потеря (тест): 0.3214 | Точность (тест): 88.36%\n",
      "--- Эпоха 15 ---\n"
     ]
    },
    {
     "name": "stderr",
     "output_type": "stream",
     "text": [
      "Обучение (эпоха 15): 100%|██████████| 469/469 [00:05<00:00, 83.45it/s] \n",
      "Тестирование (эпоха 15): 100%|██████████| 40/40 [00:03<00:00, 12.83it/s]\n"
     ]
    },
    {
     "name": "stdout",
     "output_type": "stream",
     "text": [
      "Эпоха: 15 | Потеря (тест): 0.3134 | Точность (тест): 88.51%\n",
      "--- Эпоха 16 ---\n"
     ]
    },
    {
     "name": "stderr",
     "output_type": "stream",
     "text": [
      "Обучение (эпоха 16): 100%|██████████| 469/469 [00:05<00:00, 82.40it/s] \n",
      "Тестирование (эпоха 16): 100%|██████████| 40/40 [00:03<00:00, 12.09it/s]\n"
     ]
    },
    {
     "name": "stdout",
     "output_type": "stream",
     "text": [
      "Эпоха: 16 | Потеря (тест): 0.3169 | Точность (тест): 88.05%\n",
      "--- Эпоха 17 ---\n"
     ]
    },
    {
     "name": "stderr",
     "output_type": "stream",
     "text": [
      "Обучение (эпоха 17): 100%|██████████| 469/469 [00:06<00:00, 69.90it/s] \n",
      "Тестирование (эпоха 17): 100%|██████████| 40/40 [00:03<00:00, 10.16it/s]\n"
     ]
    },
    {
     "name": "stdout",
     "output_type": "stream",
     "text": [
      "Эпоха: 17 | Потеря (тест): 0.3163 | Точность (тест): 87.91%\n",
      "--- Эпоха 18 ---\n"
     ]
    },
    {
     "name": "stderr",
     "output_type": "stream",
     "text": [
      "Обучение (эпоха 18): 100%|██████████| 469/469 [00:05<00:00, 79.95it/s] \n",
      "Тестирование (эпоха 18): 100%|██████████| 40/40 [00:03<00:00, 12.28it/s]\n"
     ]
    },
    {
     "name": "stdout",
     "output_type": "stream",
     "text": [
      "Эпоха: 18 | Потеря (тест): 0.3172 | Точность (тест): 88.39%\n",
      "--- Эпоха 19 ---\n"
     ]
    },
    {
     "name": "stderr",
     "output_type": "stream",
     "text": [
      "Обучение (эпоха 19): 100%|██████████| 469/469 [00:05<00:00, 83.91it/s] \n",
      "Тестирование (эпоха 19): 100%|██████████| 40/40 [00:03<00:00, 12.92it/s]"
     ]
    },
    {
     "name": "stdout",
     "output_type": "stream",
     "text": [
      "Эпоха: 19 | Потеря (тест): 0.3144 | Точность (тест): 88.57%\n"
     ]
    },
    {
     "name": "stderr",
     "output_type": "stream",
     "text": [
      "\n"
     ]
    }
   ],
   "source": [
    "from tqdm import tqdm  # Для отображения прогресса\n",
    "\n",
    "# Определение функции для подсчёта точности\n",
    "def calculate_accuracy(predictions, targets):\n",
    "    \"\"\" Функция для вычисления точности предсказаний \"\"\"\n",
    "    predicted_classes = torch.max(predictions, 1)[1]\n",
    "    correct = (predicted_classes == targets).sum().item()\n",
    "    accuracy = 100 * correct / len(targets)\n",
    "    return accuracy\n",
    "\n",
    "# Определение функции для вычисления потерь\n",
    "def calculate_loss(predictions, targets, criterion):\n",
    "    \"\"\" Подсчёт функции потерь \"\"\"\n",
    "    loss = criterion(predictions, targets)\n",
    "    return loss.item()\n",
    "\n",
    "\n",
    "# Логирование метрик\n",
    "train_losses, test_losses = [], []\n",
    "train_accuracies, test_accuracies = [], []\n",
    "\n",
    "# Основной цикл обучения\n",
    "for epoch in range(1, 21):  # Обучение\n",
    "    print(f\"--- Эпоха {epoch} ---\")\n",
    "    \n",
    "    train_epoch_losses, test_epoch_losses = [], []\n",
    "    train_epoch_accuracies, test_epoch_accuracies = [], []\n",
    "\n",
    "    # Обучение модели\n",
    "    neural_net.train()\n",
    "    for images, labels in tqdm(train_loader, desc=f\"Обучение (эпоха {epoch})\"):\n",
    "        images, labels = images.to(device), labels.to(device)\n",
    "        \n",
    "        optimizer.zero_grad()\n",
    "        outputs = neural_net(images)\n",
    "        loss = loss_function(outputs, labels)\n",
    "        loss.backward()\n",
    "        optimizer.step()\n",
    "\n",
    "        train_epoch_losses.append(loss.item())\n",
    "        train_epoch_accuracies.append(calculate_accuracy(outputs, labels))\n",
    "\n",
    "    # Оценка модели\n",
    "    neural_net.eval()\n",
    "    with torch.no_grad():\n",
    "        total_correct, total_samples = 0, 0\n",
    "        for images, labels in tqdm(test_loader, desc=f\"Тестирование (эпоха {epoch})\"):\n",
    "            images, labels = images.to(device), labels.to(device)\n",
    "            \n",
    "            outputs = neural_net(images)\n",
    "            loss = calculate_loss(outputs, labels, loss_function)\n",
    "            test_epoch_losses.append(loss)\n",
    "            \n",
    "            predictions = torch.max(outputs, 1)[1]\n",
    "            total_correct += (predictions == labels).sum().item()\n",
    "            total_samples += labels.size(0)\n",
    "        \n",
    "        test_accuracy = 100 * total_correct / total_samples\n",
    "\n",
    "    # Логируем метрики для одной эпохи\n",
    "    train_losses.append(np.mean(train_epoch_losses))\n",
    "    test_losses.append(np.mean(test_epoch_losses))\n",
    "    train_accuracies.append(np.mean(train_epoch_accuracies))\n",
    "    test_accuracies.append(test_accuracy)\n",
    "\n",
    "    print(f\"Эпоха: {epoch} | Потеря (тест): {test_losses[-1]:.4f} | Точность (тест): {test_accuracy:.2f}%\")\n"
   ]
  },
  {
   "cell_type": "markdown",
   "metadata": {},
   "source": [
    "# Visuals"
   ]
  },
  {
   "cell_type": "code",
   "execution_count": 11,
   "metadata": {},
   "outputs": [
    {
     "data": {
      "image/png": "[encoded data removed]",
      "text/plain": [
       "<Figure size 1200x600 with 2 Axes>"
      ]
     },
     "metadata": {},
     "output_type": "display_data"
    }
   ],
   "source": [
    "import matplotlib.pyplot as plt\n",
    "\n",
    "def visualize_training_process(train_losses, test_losses, train_accuracies, test_accuracies):\n",
    "    \"\"\" \n",
    "    Визуализация потерь и точности для процесса обучения.\n",
    "    \n",
    "    Параметры:\n",
    "    - train_losses: потери на обучении для каждой эпохи\n",
    "    - test_losses: потери на тестировании для каждой эпохи\n",
    "    - train_accuracies: точность на обучении для каждой эпохи\n",
    "    - test_accuracies: точность на тестировании для каждой эпохи\n",
    "    - version: текст, указывающий, какая это версия (для заголовка графиков)\n",
    "    \"\"\"\n",
    "    \n",
    "    epochs = range(1, len(train_losses) + 1)\n",
    "    \n",
    "    plt.figure(figsize=(12, 6))\n",
    "    \n",
    "    # Визуализация потерь (loss)\n",
    "    plt.subplot(1, 2, 1)\n",
    "    plt.plot(epochs, train_losses, label='Потери на обучении', marker='o', color='blue')\n",
    "    plt.plot(epochs, test_losses, label='Потери на тестировании', marker='o', color='orange')\n",
    "    plt.xlabel('Эпоха')\n",
    "    plt.ylabel('Потери')\n",
    "    plt.title(f'Потери')\n",
    "    plt.legend()\n",
    "    plt.grid(True)\n",
    "    \n",
    "    # Визуализация точности (accuracy)\n",
    "    plt.subplot(1, 2, 2)\n",
    "    plt.plot(epochs, train_accuracies, label='Точность на обучении', marker='o', color='blue')\n",
    "    plt.plot(epochs, test_accuracies, label='Точность на тестировании', marker='o', color='orange')\n",
    "    plt.xlabel('Эпоха')\n",
    "    plt.ylabel('Точность (%)')\n",
    "    plt.title(f'Точность')\n",
    "    plt.legend()\n",
    "    plt.grid(True)\n",
    "    \n",
    "    plt.tight_layout()\n",
    "    plt.show()\n",
    "\n",
    "# Вызов функции для визуализации первой версии\n",
    "visualize_training_process(train_losses, test_losses, train_accuracies, test_accuracies)\n"
   ]
  },
  {
   "cell_type": "markdown",
   "metadata": {
    "colab_type": "text",
    "id": "L7ISqkjmCPB1"
   },
   "source": [
    "### Task 2: Overfit it.\n",
    "Build a network that will overfit to this dataset. Demonstrate the overfitting in the appropriate way (e.g. plot loss and accurasy on train and test set w.r.t. network complexity).\n",
    "\n",
    "*Note:* you also might decrease the size of `train` dataset to enforce the overfitting and speed up the computations."
   ]
  },
  {
   "cell_type": "code",
   "execution_count": 20,
   "metadata": {},
   "outputs": [
    {
     "name": "stdout",
     "output_type": "stream",
     "text": [
      "----------------------------------------------------------------\n",
      "        Layer (type)               Output Shape         Param #\n",
      "================================================================\n",
      "           Flatten-1                  [-1, 784]               0\n",
      "            Linear-2                  [-1, 392]         307,720\n",
      "              ReLU-3                  [-1, 392]               0\n",
      "            Linear-4                   [-1, 10]           3,930\n",
      "        LogSoftmax-5                   [-1, 10]               0\n",
      "================================================================\n",
      "Total params: 311,650\n",
      "Trainable params: 311,650\n",
      "Non-trainable params: 0\n",
      "----------------------------------------------------------------\n",
      "Input size (MB): 0.00\n",
      "Forward/backward pass size (MB): 0.01\n",
      "Params size (MB): 1.19\n",
      "Estimated Total Size (MB): 1.20\n",
      "----------------------------------------------------------------\n"
     ]
    }
   ],
   "source": [
    "import torch\n",
    "import torch.nn as nn\n",
    "import torch.optim as optim\n",
    "import numpy as np\n",
    "import time  # Для замера времени\n",
    "\n",
    "# Определяем устройство для вычислений: если доступна CUDA, используем её\n",
    "device = 'cuda:0' if torch.cuda.is_available() else 'cpu'\n",
    "\n",
    "# Определяем класс нейросети OverfittingNeuralNetwork\n",
    "class OverfittingNeuralNetwork(nn.Module):\n",
    "    def __init__(self, input_shape=28*28, num_classes=10):\n",
    "        \"\"\" \n",
    "        Конструктор для создания структуры нейросети \n",
    "        Аргументы:\n",
    "        - input_shape: размерность входных данных (по умолчанию 28x28 для изображений)\n",
    "        - num_classes: количество классов для классификации (по умолчанию 10) \n",
    "        \"\"\"\n",
    "        super().__init__()\n",
    "        self.model = nn.Sequential(\n",
    "            nn.Flatten(),  # Преобразование двумерного изображения в вектор\n",
    "            nn.Linear(input_shape, 392),  # Полносвязный скрытый слой с 392 нейронами\n",
    "            nn.ReLU(),  # Активационная функция ReLU\n",
    "            nn.Linear(392, num_classes),  # Выходной слой\n",
    "            nn.LogSoftmax(dim=1)  # Применение логарифмического Softmax для вероятностей\n",
    "        )\n",
    "        \n",
    "    def forward(self, x):\n",
    "        \"\"\" Прямое распространение данных через модель \"\"\"\n",
    "        return self.model(x)\n",
    "\n",
    "# Отображение информации о структуре модели\n",
    "from torchsummary import summary\n",
    "summary(OverfittingNeuralNetwork().to(device), (28*28,))\n",
    "\n",
    "# Инициализация модели, оптимизатора и функции потерь\n",
    "model = OverfittingNeuralNetwork().to(device)  # Отправляем модель на устройство (CPU или GPU)\n",
    "opt = optim.Adam(model.parameters(), lr=1e-3)  # Используем Adam с шагом обучения 0.001\n",
    "loss_func = nn.CrossEntropyLoss()  # Функция потерь кросс-энтропии для задач классификации\n",
    "\n",
    "# Функция для обучения модели\n",
    "def train_model(model, train_loader, val_loader, loss_fn, optimizer, n_epochs: int):\n",
    "    \"\"\"\n",
    "    Функция для обучения модели.\n",
    "    Аргументы:\n",
    "    - model: обучаемая модель\n",
    "    - train_loader: загрузчик данных для обучения\n",
    "    - val_loader: загрузчик данных для проверки\n",
    "    - loss_fn: функция потерь\n",
    "    - optimizer: оптимизатор\n",
    "    - n_epochs: количество эпох для обучения\n",
    "    \"\"\"\n",
    "    train_losses = []  # Список для записи потерь на обучающей выборке\n",
    "    val_losses = []  # Список для записи потерь на валидационной выборке\n",
    "    val_accuracies = []  # Список для записи точности на валидационной выборке\n",
    "    \n",
    "    for epoch in range(n_epochs):  # Основной цикл по эпохам\n",
    "        train_epoch_losses = []  # Потери за одну эпоху на обучении\n",
    "        val_epoch_losses = []  # Потери за одну эпоху на проверке\n",
    "        val_epoch_accuracies = []  # Точность за одну эпоху на проверке\n",
    "        start_time = time.time()  # Замер времени начала эпохи\n",
    "\n",
    "        # --- Обучение ---\n",
    "        model.train()  # Переводим модель в режим обучения\n",
    "        for X_batch, y_batch in train_loader:\n",
    "            X_batch, y_batch = X_batch.to(device), y_batch.to(device)  # Перемещение тензоров на устройство (CPU или GPU)\n",
    "            \n",
    "            optimizer.zero_grad()  # Обнуляем градиенты\n",
    "            predictions = model(X_batch)  # Прямое распространение (forward pass)\n",
    "            loss = loss_fn(predictions, y_batch)  # Подсчёт функции потерь\n",
    "            loss.backward()  # Обратное распространение (backpropagation)\n",
    "            optimizer.step()  # Обновление параметров модели\n",
    "\n",
    "            train_epoch_losses.append(loss.item())  # Логируем значение потерь за один батч\n",
    "\n",
    "        # --- Проверка ---\n",
    "        model.eval()  # Переводим модель в режим оценки\n",
    "        with torch.no_grad():  # Отключаем вычисление градиентов\n",
    "            for X_batch, y_batch in val_loader:\n",
    "                X_batch, y_batch = X_batch.to(device), y_batch.to(device)  # Перемещение тензоров на устройство\n",
    "                predictions = model(X_batch)  # Прямое распространение\n",
    "                loss = loss_fn(predictions, y_batch)  # Подсчёт функции потерь\n",
    "                val_epoch_losses.append(loss.item())  # Логируем потери на проверочной выборке\n",
    "\n",
    "                y_pred = predictions.argmax(dim=1)  # Предсказание метки класса\n",
    "                accuracy = (y_pred == y_batch).float().mean().item()  # Подсчёт точности\n",
    "                val_epoch_accuracies.append(accuracy)  # Логируем точность\n",
    "\n",
    "        # Логирование потерь и точности по эпохам\n",
    "        train_losses.append(np.mean(train_epoch_losses))  # Средние потери за эпоху (обучение)\n",
    "        val_losses.append(np.mean(val_epoch_losses))  # Средние потери за эпоху (валидация)\n",
    "        val_accuracies.append(np.mean(val_epoch_accuracies))  # Средняя точность за эпоху (валидация)\n",
    "\n",
    "        epoch_time = time.time() - start_time  # Время, затраченное на эпоху\n",
    "        print(f\"Эпоха {epoch+1}/{n_epochs} | Потери на обучении: {train_losses[-1]:.4f} | Потери на проверке: {val_losses[-1]:.4f} | Точность: {val_accuracies[-1]:.2f}% | Время: {epoch_time:.2f} сек\")\n",
    "\n",
    "    return train_losses, val_losses, val_accuracies\n"
   ]
  },
  {
   "cell_type": "markdown",
   "metadata": {},
   "source": [
    "## Уменьшим датасет"
   ]
  },
  {
   "cell_type": "code",
   "execution_count": 21,
   "metadata": {},
   "outputs": [
    {
     "data": {
      "text/plain": [
       "6000"
      ]
     },
     "execution_count": 21,
     "metadata": {},
     "output_type": "execute_result"
    }
   ],
   "source": [
    "def subset_ind(dataset, ratio: float):\n",
    "    return np.random.choice(len(dataset), size=int(ratio*len(dataset)), replace=False)\n",
    "\n",
    "val_size = 0.1\n",
    "val_inds = subset_ind(fmnist_dataset_train, val_size)\n",
    "\n",
    "train_dataset = Subset(fmnist_dataset_train, val_inds)\n",
    "\n",
    "len(train_dataset)"
   ]
  },
  {
   "cell_type": "code",
   "execution_count": 22,
   "metadata": {},
   "outputs": [],
   "source": [
    "train_loader = torch.utils.data.DataLoader(train_dataset, \n",
    "                                           batch_size=128,\n",
    "                                           shuffle=True,\n",
    "                                           num_workers=2)"
   ]
  },
  {
   "cell_type": "code",
   "execution_count": 23,
   "metadata": {},
   "outputs": [
    {
     "name": "stdout",
     "output_type": "stream",
     "text": [
      "Эпоха 1/75 | Потери на обучении: 1.0066 | Потери на проверке: 0.7050 | Точность: 0.75% | Время: 6.19 сек\n",
      "Эпоха 2/75 | Потери на обучении: 0.6259 | Потери на проверке: 0.5919 | Точность: 0.80% | Время: 5.99 сек\n",
      "Эпоха 3/75 | Потери на обучении: 0.5296 | Потери на проверке: 0.5574 | Точность: 0.80% | Время: 7.35 сек\n",
      "Эпоха 4/75 | Потери на обучении: 0.4777 | Потери на проверке: 0.5164 | Точность: 0.82% | Время: 7.13 сек\n",
      "Эпоха 5/75 | Потери на обучении: 0.4500 | Потери на проверке: 0.5085 | Точность: 0.82% | Время: 6.30 сек\n",
      "Эпоха 6/75 | Потери на обучении: 0.4205 | Потери на проверке: 0.4728 | Точность: 0.83% | Время: 7.03 сек\n",
      "Эпоха 7/75 | Потери на обучении: 0.4029 | Потери на проверке: 0.4856 | Точность: 0.82% | Время: 6.63 сек\n",
      "Эпоха 8/75 | Потери на обучении: 0.3796 | Потери на проверке: 0.4684 | Точность: 0.84% | Время: 6.60 сек\n",
      "Эпоха 9/75 | Потери на обучении: 0.3640 | Потери на проверке: 0.4688 | Точность: 0.83% | Время: 6.70 сек\n",
      "Эпоха 10/75 | Потери на обучении: 0.3460 | Потери на проверке: 0.4511 | Точность: 0.84% | Время: 6.61 сек\n",
      "Эпоха 11/75 | Потери на обучении: 0.3246 | Потери на проверке: 0.4457 | Точность: 0.84% | Время: 6.40 сек\n",
      "Эпоха 12/75 | Потери на обучении: 0.3091 | Потери на проверке: 0.4488 | Точность: 0.84% | Время: 6.49 сек\n",
      "Эпоха 13/75 | Потери на обучении: 0.3049 | Потери на проверке: 0.4814 | Точность: 0.83% | Время: 6.24 сек\n",
      "Эпоха 14/75 | Потери на обучении: 0.2960 | Потери на проверке: 0.4768 | Точность: 0.83% | Время: 6.33 сек\n",
      "Эпоха 15/75 | Потери на обучении: 0.2757 | Потери на проверке: 0.4416 | Точность: 0.84% | Время: 6.31 сек\n",
      "Эпоха 16/75 | Потери на обучении: 0.2701 | Потери на проверке: 0.4523 | Точность: 0.84% | Время: 6.24 сек\n",
      "Эпоха 17/75 | Потери на обучении: 0.2557 | Потери на проверке: 0.4752 | Точность: 0.84% | Время: 6.96 сек\n",
      "Эпоха 18/75 | Потери на обучении: 0.2511 | Потери на проверке: 0.4458 | Точность: 0.85% | Время: 6.40 сек\n",
      "Эпоха 19/75 | Потери на обучении: 0.2445 | Потери на проверке: 0.4576 | Точность: 0.85% | Время: 6.90 сек\n",
      "Эпоха 20/75 | Потери на обучении: 0.2291 | Потери на проверке: 0.4488 | Точность: 0.85% | Время: 6.09 сек\n",
      "Эпоха 21/75 | Потери на обучении: 0.2320 | Потери на проверке: 0.4879 | Точность: 0.84% | Время: 6.23 сек\n",
      "Эпоха 22/75 | Потери на обучении: 0.2186 | Потери на проверке: 0.4587 | Точность: 0.85% | Время: 6.22 сек\n",
      "Эпоха 23/75 | Потери на обучении: 0.2028 | Потери на проверке: 0.4973 | Точность: 0.84% | Время: 6.61 сек\n",
      "Эпоха 24/75 | Потери на обучении: 0.1951 | Потери на проверке: 0.4773 | Точность: 0.84% | Время: 6.48 сек\n",
      "Эпоха 25/75 | Потери на обучении: 0.1932 | Потери на проверке: 0.4654 | Точность: 0.85% | Время: 6.14 сек\n",
      "Эпоха 26/75 | Потери на обучении: 0.1744 | Потери на проверке: 0.4529 | Точность: 0.85% | Время: 6.05 сек\n",
      "Эпоха 27/75 | Потери на обучении: 0.1808 | Потери на проверке: 0.4541 | Точность: 0.85% | Время: 6.68 сек\n",
      "Эпоха 28/75 | Потери на обучении: 0.1620 | Потери на проверке: 0.4673 | Точность: 0.85% | Время: 6.25 сек\n",
      "Эпоха 29/75 | Потери на обучении: 0.1625 | Потери на проверке: 0.4710 | Точность: 0.85% | Время: 6.09 сек\n",
      "Эпоха 30/75 | Потери на обучении: 0.1510 | Потери на проверке: 0.4755 | Точность: 0.85% | Время: 6.13 сек\n",
      "Эпоха 31/75 | Потери на обучении: 0.1521 | Потери на проверке: 0.4763 | Точность: 0.85% | Время: 6.62 сек\n",
      "Эпоха 32/75 | Потери на обучении: 0.1464 | Потери на проверке: 0.4707 | Точность: 0.85% | Время: 6.65 сек\n",
      "Эпоха 33/75 | Потери на обучении: 0.1474 | Потери на проверке: 0.4809 | Точность: 0.85% | Время: 6.52 сек\n",
      "Эпоха 34/75 | Потери на обучении: 0.1529 | Потери на проверке: 0.4962 | Точность: 0.84% | Время: 6.49 сек\n",
      "Эпоха 35/75 | Потери на обучении: 0.1351 | Потери на проверке: 0.4935 | Точность: 0.85% | Время: 6.31 сек\n",
      "Эпоха 36/75 | Потери на обучении: 0.1322 | Потери на проверке: 0.4998 | Точность: 0.85% | Время: 6.27 сек\n",
      "Эпоха 37/75 | Потери на обучении: 0.1208 | Потери на проверке: 0.4902 | Точность: 0.85% | Время: 6.27 сек\n",
      "Эпоха 38/75 | Потери на обучении: 0.1118 | Потери на проверке: 0.5073 | Точность: 0.85% | Время: 6.21 сек\n",
      "Эпоха 39/75 | Потери на обучении: 0.1158 | Потери на проверке: 0.4985 | Точность: 0.85% | Время: 6.73 сек\n",
      "Эпоха 40/75 | Потери на обучении: 0.1116 | Потери на проверке: 0.5176 | Точность: 0.85% | Время: 6.08 сек\n",
      "Эпоха 41/75 | Потери на обучении: 0.1029 | Потери на проверке: 0.5431 | Точность: 0.85% | Время: 6.26 сек\n",
      "Эпоха 42/75 | Потери на обучении: 0.0952 | Потери на проверке: 0.5239 | Точность: 0.85% | Время: 6.10 сек\n",
      "Эпоха 43/75 | Потери на обучении: 0.0931 | Потери на проверке: 0.5258 | Точность: 0.85% | Время: 6.15 сек\n",
      "Эпоха 44/75 | Потери на обучении: 0.0821 | Потери на проверке: 0.5206 | Точность: 0.86% | Время: 6.07 сек\n",
      "Эпоха 45/75 | Потери на обучении: 0.0931 | Потери на проверке: 0.5672 | Точность: 0.84% | Время: 7.20 сек\n",
      "Эпоха 46/75 | Потери на обучении: 0.0977 | Потери на проверке: 0.5528 | Точность: 0.85% | Время: 6.72 сек\n",
      "Эпоха 47/75 | Потери на обучении: 0.0779 | Потери на проверке: 0.5337 | Точность: 0.85% | Время: 7.70 сек\n",
      "Эпоха 48/75 | Потери на обучении: 0.0749 | Потери на проверке: 0.5429 | Точность: 0.85% | Время: 6.62 сек\n",
      "Эпоха 49/75 | Потери на обучении: 0.0716 | Потери на проверке: 0.5397 | Точность: 0.86% | Время: 7.23 сек\n",
      "Эпоха 50/75 | Потери на обучении: 0.0719 | Потери на проверке: 0.5545 | Точность: 0.85% | Время: 7.36 сек\n",
      "Эпоха 51/75 | Потери на обучении: 0.0635 | Потери на проверке: 0.5656 | Точность: 0.85% | Время: 7.75 сек\n",
      "Эпоха 52/75 | Потери на обучении: 0.0648 | Потери на проверке: 0.5687 | Точность: 0.85% | Время: 7.01 сек\n",
      "Эпоха 53/75 | Потери на обучении: 0.0658 | Потери на проверке: 0.5608 | Точность: 0.86% | Время: 6.62 сек\n",
      "Эпоха 54/75 | Потери на обучении: 0.0631 | Потери на проверке: 0.5741 | Точность: 0.85% | Время: 5.88 сек\n",
      "Эпоха 55/75 | Потери на обучении: 0.0600 | Потери на проверке: 0.5771 | Точность: 0.85% | Время: 5.88 сек\n",
      "Эпоха 56/75 | Потери на обучении: 0.0550 | Потери на проверке: 0.5786 | Точность: 0.86% | Время: 5.95 сек\n",
      "Эпоха 57/75 | Потери на обучении: 0.0536 | Потери на проверке: 0.6021 | Точность: 0.85% | Время: 5.81 сек\n",
      "Эпоха 58/75 | Потери на обучении: 0.0524 | Потери на проверке: 0.6073 | Точность: 0.85% | Время: 5.95 сек\n",
      "Эпоха 59/75 | Потери на обучении: 0.0523 | Потери на проверке: 0.5825 | Точность: 0.85% | Время: 6.26 сек\n",
      "Эпоха 60/75 | Потери на обучении: 0.0539 | Потери на проверке: 0.5821 | Точность: 0.85% | Время: 5.91 сек\n",
      "Эпоха 61/75 | Потери на обучении: 0.0468 | Потери на проверке: 0.6150 | Точность: 0.85% | Время: 5.97 сек\n",
      "Эпоха 62/75 | Потери на обучении: 0.0412 | Потери на проверке: 0.6213 | Точность: 0.85% | Время: 5.74 сек\n",
      "Эпоха 63/75 | Потери на обучении: 0.0528 | Потери на проверке: 0.6812 | Точность: 0.85% | Время: 5.60 сек\n",
      "Эпоха 64/75 | Потери на обучении: 0.0646 | Потери на проверке: 0.6004 | Точность: 0.86% | Время: 5.78 сек\n",
      "Эпоха 65/75 | Потери на обучении: 0.0453 | Потери на проверке: 0.6357 | Точность: 0.85% | Время: 5.78 сек\n",
      "Эпоха 66/75 | Потери на обучении: 0.0386 | Потери на проверке: 0.6637 | Точность: 0.85% | Время: 5.89 сек\n",
      "Эпоха 67/75 | Потери на обучении: 0.0386 | Потери на проверке: 0.6287 | Точность: 0.86% | Время: 6.36 сек\n",
      "Эпоха 68/75 | Потери на обучении: 0.0287 | Потери на проверке: 0.6380 | Точность: 0.85% | Время: 6.58 сек\n",
      "Эпоха 69/75 | Потери на обучении: 0.0276 | Потери на проверке: 0.6399 | Точность: 0.86% | Время: 6.16 сек\n",
      "Эпоха 70/75 | Потери на обучении: 0.0305 | Потери на проверке: 0.6670 | Точность: 0.85% | Время: 5.91 сек\n",
      "Эпоха 71/75 | Потери на обучении: 0.0376 | Потери на проверке: 0.6556 | Точность: 0.85% | Время: 6.22 сек\n",
      "Эпоха 72/75 | Потери на обучении: 0.0330 | Потери на проверке: 0.6457 | Точность: 0.86% | Время: 6.14 сек\n",
      "Эпоха 73/75 | Потери на обучении: 0.0298 | Потери на проверке: 0.6449 | Точность: 0.85% | Время: 5.99 сек\n",
      "Эпоха 74/75 | Потери на обучении: 0.0300 | Потери на проверке: 0.6657 | Точность: 0.85% | Время: 6.50 сек\n",
      "Эпоха 75/75 | Потери на обучении: 0.0307 | Потери на проверке: 0.6596 | Точность: 0.86% | Время: 6.06 сек\n"
     ]
    }
   ],
   "source": [
    "# Train the model\n",
    "n_epochs = 75\n",
    "train_loss, val_loss, val_accuracy = train_model(model, train_loader, test_loader, loss_func, opt, n_epochs)"
   ]
  },
  {
   "cell_type": "code",
   "execution_count": 28,
   "metadata": {},
   "outputs": [],
   "source": [
    "def plot_train_process(train_loss, val_loss, val_accuracy):\n",
    "    fig, axes = plt.subplots(1, 2, figsize=(15, 5))\n",
    "\n",
    "    axes[0].set_title('Loss')\n",
    "    axes[0].plot(train_loss, label='train')\n",
    "    axes[0].plot(val_loss, label='validation')\n",
    "    axes[0].legend()\n",
    "\n",
    "    axes[1].set_title('Validation accuracy')\n",
    "    axes[1].plot(val_accuracy)\n",
    "    "
   ]
  },
  {
   "cell_type": "code",
   "execution_count": 29,
   "metadata": {},
   "outputs": [
    {
     "data": {
      "image/png": "[encoded data removed]",
      "text/plain": [
       "<Figure size 1500x500 with 2 Axes>"
      ]
     },
     "metadata": {},
     "output_type": "display_data"
    }
   ],
   "source": [
    "plot_train_process(train_loss, val_loss, val_accuracy)"
   ]
  },
  {
   "cell_type": "markdown",
   "metadata": {},
   "source": [
    "### Task 3: Fix it.\n",
    "Fix the overfitted network from the previous step (at least partially) by using regularization techniques (Dropout/Batchnorm/...) and demonstrate the results. "
   ]
  },
  {
   "cell_type": "code",
   "execution_count": 30,
   "metadata": {},
   "outputs": [],
   "source": [
    "import torch.nn as nn\n",
    "\n",
    "class FixedNeuralNetwork(nn.Module):\n",
    "    def __init__(self, input_shape=28*28, num_classes=10):\n",
    "        super().__init__()\n",
    "        self.model = nn.Sequential(\n",
    "            nn.Flatten(), \n",
    "            nn.Dropout(p=0.5),  \n",
    "            nn.Linear(784, 392),  \n",
    "            nn.ReLU(),  \n",
    "            nn.Dropout(p=0.5),  \n",
    "            nn.Linear(392, num_classes),  \n",
    "            nn.LogSoftmax(dim=1) \n",
    "        )\n",
    "        \n",
    "    def forward(self, inp):\n",
    "        out = self.model(inp)\n",
    "        return out"
   ]
  },
  {
   "cell_type": "code",
   "execution_count": 31,
   "metadata": {},
   "outputs": [
    {
     "name": "stdout",
     "output_type": "stream",
     "text": [
      "----------------------------------------------------------------\n",
      "        Layer (type)               Output Shape         Param #\n",
      "================================================================\n",
      "           Flatten-1                  [-1, 784]               0\n",
      "           Dropout-2                  [-1, 784]               0\n",
      "            Linear-3                  [-1, 392]         307,720\n",
      "              ReLU-4                  [-1, 392]               0\n",
      "           Dropout-5                  [-1, 392]               0\n",
      "            Linear-6                   [-1, 10]           3,930\n",
      "        LogSoftmax-7                   [-1, 10]               0\n",
      "================================================================\n",
      "Total params: 311,650\n",
      "Trainable params: 311,650\n",
      "Non-trainable params: 0\n",
      "----------------------------------------------------------------\n",
      "Input size (MB): 0.00\n",
      "Forward/backward pass size (MB): 0.02\n",
      "Params size (MB): 1.19\n",
      "Estimated Total Size (MB): 1.21\n",
      "----------------------------------------------------------------\n"
     ]
    }
   ],
   "source": [
    "torchsummary.summary(FixedNeuralNetwork().to(device), (28*28,))"
   ]
  },
  {
   "cell_type": "code",
   "execution_count": 32,
   "metadata": {},
   "outputs": [],
   "source": [
    "model = FixedNeuralNetwork().to(device)\n",
    "opt = torch.optim.Adam(model.parameters(), lr=1e-3)\n",
    "loss_func = nn.CrossEntropyLoss()"
   ]
  },
  {
   "cell_type": "code",
   "execution_count": 33,
   "metadata": {},
   "outputs": [
    {
     "name": "stdout",
     "output_type": "stream",
     "text": [
      "Epoch 1/75, Train Loss: 1.2001, Val Loss: 0.7651, Val Accuracy: 0.7271, Time: 5.92s\n",
      "Epoch 2/75, Train Loss: 0.7599, Val Loss: 0.6451, Val Accuracy: 0.7671, Time: 6.60s\n",
      "Epoch 3/75, Train Loss: 0.6826, Val Loss: 0.6015, Val Accuracy: 0.7737, Time: 6.05s\n",
      "Epoch 4/75, Train Loss: 0.6499, Val Loss: 0.5711, Val Accuracy: 0.7920, Time: 6.08s\n",
      "Epoch 5/75, Train Loss: 0.6162, Val Loss: 0.5694, Val Accuracy: 0.7959, Time: 6.24s\n",
      "Epoch 6/75, Train Loss: 0.5978, Val Loss: 0.5310, Val Accuracy: 0.8078, Time: 6.01s\n",
      "Epoch 7/75, Train Loss: 0.5815, Val Loss: 0.5272, Val Accuracy: 0.8115, Time: 5.97s\n",
      "Epoch 8/75, Train Loss: 0.5597, Val Loss: 0.5146, Val Accuracy: 0.8188, Time: 5.59s\n",
      "Epoch 9/75, Train Loss: 0.5492, Val Loss: 0.5181, Val Accuracy: 0.8115, Time: 5.58s\n",
      "Epoch 10/75, Train Loss: 0.5319, Val Loss: 0.5018, Val Accuracy: 0.8141, Time: 5.60s\n",
      "Epoch 11/75, Train Loss: 0.5365, Val Loss: 0.4984, Val Accuracy: 0.8252, Time: 5.61s\n",
      "Epoch 12/75, Train Loss: 0.5099, Val Loss: 0.4826, Val Accuracy: 0.8293, Time: 6.16s\n",
      "Epoch 13/75, Train Loss: 0.5033, Val Loss: 0.4773, Val Accuracy: 0.8280, Time: 5.89s\n",
      "Epoch 14/75, Train Loss: 0.4960, Val Loss: 0.4883, Val Accuracy: 0.8178, Time: 5.78s\n",
      "Epoch 15/75, Train Loss: 0.4973, Val Loss: 0.4805, Val Accuracy: 0.8221, Time: 5.78s\n",
      "Epoch 16/75, Train Loss: 0.4820, Val Loss: 0.4774, Val Accuracy: 0.8231, Time: 5.62s\n",
      "Epoch 17/75, Train Loss: 0.4882, Val Loss: 0.4739, Val Accuracy: 0.8250, Time: 5.61s\n",
      "Epoch 18/75, Train Loss: 0.4823, Val Loss: 0.4781, Val Accuracy: 0.8228, Time: 5.61s\n",
      "Epoch 19/75, Train Loss: 0.4576, Val Loss: 0.4592, Val Accuracy: 0.8336, Time: 5.62s\n",
      "Epoch 20/75, Train Loss: 0.4534, Val Loss: 0.4492, Val Accuracy: 0.8332, Time: 5.59s\n",
      "Epoch 21/75, Train Loss: 0.4679, Val Loss: 0.4493, Val Accuracy: 0.8346, Time: 5.59s\n",
      "Epoch 22/75, Train Loss: 0.4545, Val Loss: 0.4457, Val Accuracy: 0.8396, Time: 5.58s\n",
      "Epoch 23/75, Train Loss: 0.4617, Val Loss: 0.4556, Val Accuracy: 0.8370, Time: 5.58s\n",
      "Epoch 24/75, Train Loss: 0.4561, Val Loss: 0.4479, Val Accuracy: 0.8395, Time: 5.60s\n",
      "Epoch 25/75, Train Loss: 0.4406, Val Loss: 0.4531, Val Accuracy: 0.8320, Time: 5.57s\n",
      "Epoch 26/75, Train Loss: 0.4402, Val Loss: 0.4477, Val Accuracy: 0.8362, Time: 5.61s\n",
      "Epoch 27/75, Train Loss: 0.4362, Val Loss: 0.4396, Val Accuracy: 0.8424, Time: 5.60s\n",
      "Epoch 28/75, Train Loss: 0.4438, Val Loss: 0.4492, Val Accuracy: 0.8374, Time: 5.56s\n",
      "Epoch 29/75, Train Loss: 0.4393, Val Loss: 0.4510, Val Accuracy: 0.8395, Time: 5.52s\n",
      "Epoch 30/75, Train Loss: 0.4322, Val Loss: 0.4449, Val Accuracy: 0.8403, Time: 5.60s\n",
      "Epoch 31/75, Train Loss: 0.4227, Val Loss: 0.4329, Val Accuracy: 0.8448, Time: 5.57s\n",
      "Epoch 32/75, Train Loss: 0.4153, Val Loss: 0.4371, Val Accuracy: 0.8399, Time: 5.49s\n",
      "Epoch 33/75, Train Loss: 0.4123, Val Loss: 0.4391, Val Accuracy: 0.8406, Time: 5.49s\n",
      "Epoch 34/75, Train Loss: 0.3992, Val Loss: 0.4427, Val Accuracy: 0.8394, Time: 5.47s\n",
      "Epoch 35/75, Train Loss: 0.4062, Val Loss: 0.4354, Val Accuracy: 0.8450, Time: 5.47s\n",
      "Epoch 36/75, Train Loss: 0.3990, Val Loss: 0.4477, Val Accuracy: 0.8393, Time: 5.48s\n",
      "Epoch 37/75, Train Loss: 0.4033, Val Loss: 0.4280, Val Accuracy: 0.8475, Time: 5.51s\n",
      "Epoch 38/75, Train Loss: 0.4017, Val Loss: 0.4394, Val Accuracy: 0.8394, Time: 5.50s\n",
      "Epoch 39/75, Train Loss: 0.4012, Val Loss: 0.4426, Val Accuracy: 0.8386, Time: 5.46s\n",
      "Epoch 40/75, Train Loss: 0.3995, Val Loss: 0.4287, Val Accuracy: 0.8453, Time: 5.51s\n",
      "Epoch 41/75, Train Loss: 0.4019, Val Loss: 0.4279, Val Accuracy: 0.8496, Time: 5.55s\n",
      "Epoch 42/75, Train Loss: 0.3969, Val Loss: 0.4365, Val Accuracy: 0.8429, Time: 5.46s\n",
      "Epoch 43/75, Train Loss: 0.4026, Val Loss: 0.4227, Val Accuracy: 0.8504, Time: 5.49s\n",
      "Epoch 44/75, Train Loss: 0.3884, Val Loss: 0.4299, Val Accuracy: 0.8459, Time: 5.45s\n",
      "Epoch 45/75, Train Loss: 0.3884, Val Loss: 0.4328, Val Accuracy: 0.8442, Time: 5.46s\n",
      "Epoch 46/75, Train Loss: 0.3796, Val Loss: 0.4300, Val Accuracy: 0.8432, Time: 5.47s\n",
      "Epoch 47/75, Train Loss: 0.3921, Val Loss: 0.4311, Val Accuracy: 0.8427, Time: 5.46s\n",
      "Epoch 48/75, Train Loss: 0.3829, Val Loss: 0.4235, Val Accuracy: 0.8478, Time: 5.51s\n",
      "Epoch 49/75, Train Loss: 0.3884, Val Loss: 0.4446, Val Accuracy: 0.8413, Time: 5.48s\n",
      "Epoch 50/75, Train Loss: 0.3764, Val Loss: 0.4317, Val Accuracy: 0.8457, Time: 5.48s\n",
      "Epoch 51/75, Train Loss: 0.3787, Val Loss: 0.4317, Val Accuracy: 0.8439, Time: 5.48s\n",
      "Epoch 52/75, Train Loss: 0.3820, Val Loss: 0.4210, Val Accuracy: 0.8465, Time: 5.54s\n",
      "Epoch 53/75, Train Loss: 0.3761, Val Loss: 0.4335, Val Accuracy: 0.8403, Time: 5.50s\n",
      "Epoch 54/75, Train Loss: 0.3754, Val Loss: 0.4281, Val Accuracy: 0.8468, Time: 5.53s\n",
      "Epoch 55/75, Train Loss: 0.3754, Val Loss: 0.4337, Val Accuracy: 0.8416, Time: 5.56s\n",
      "Epoch 56/75, Train Loss: 0.3691, Val Loss: 0.4340, Val Accuracy: 0.8460, Time: 5.50s\n",
      "Epoch 57/75, Train Loss: 0.3692, Val Loss: 0.4201, Val Accuracy: 0.8463, Time: 5.50s\n",
      "Epoch 58/75, Train Loss: 0.3692, Val Loss: 0.4347, Val Accuracy: 0.8431, Time: 5.48s\n",
      "Epoch 59/75, Train Loss: 0.3666, Val Loss: 0.4275, Val Accuracy: 0.8457, Time: 5.61s\n",
      "Epoch 60/75, Train Loss: 0.3579, Val Loss: 0.4261, Val Accuracy: 0.8472, Time: 5.48s\n",
      "Epoch 61/75, Train Loss: 0.3599, Val Loss: 0.4230, Val Accuracy: 0.8480, Time: 5.50s\n",
      "Epoch 62/75, Train Loss: 0.3665, Val Loss: 0.4268, Val Accuracy: 0.8469, Time: 5.47s\n",
      "Epoch 63/75, Train Loss: 0.3527, Val Loss: 0.4293, Val Accuracy: 0.8457, Time: 5.56s\n",
      "Epoch 64/75, Train Loss: 0.3516, Val Loss: 0.4347, Val Accuracy: 0.8439, Time: 5.54s\n",
      "Epoch 65/75, Train Loss: 0.3649, Val Loss: 0.4256, Val Accuracy: 0.8454, Time: 5.59s\n",
      "Epoch 66/75, Train Loss: 0.3535, Val Loss: 0.4361, Val Accuracy: 0.8456, Time: 5.56s\n",
      "Epoch 67/75, Train Loss: 0.3551, Val Loss: 0.4258, Val Accuracy: 0.8496, Time: 5.56s\n",
      "Epoch 68/75, Train Loss: 0.3526, Val Loss: 0.4286, Val Accuracy: 0.8426, Time: 5.54s\n",
      "Epoch 69/75, Train Loss: 0.3553, Val Loss: 0.4244, Val Accuracy: 0.8494, Time: 5.56s\n",
      "Epoch 70/75, Train Loss: 0.3607, Val Loss: 0.4342, Val Accuracy: 0.8431, Time: 5.51s\n",
      "Epoch 71/75, Train Loss: 0.3621, Val Loss: 0.4200, Val Accuracy: 0.8501, Time: 5.58s\n",
      "Epoch 72/75, Train Loss: 0.3530, Val Loss: 0.4310, Val Accuracy: 0.8483, Time: 5.58s\n",
      "Epoch 73/75, Train Loss: 0.3538, Val Loss: 0.4299, Val Accuracy: 0.8485, Time: 5.51s\n",
      "Epoch 74/75, Train Loss: 0.3402, Val Loss: 0.4290, Val Accuracy: 0.8448, Time: 5.55s\n",
      "Epoch 75/75, Train Loss: 0.3509, Val Loss: 0.4264, Val Accuracy: 0.8468, Time: 5.56s\n"
     ]
    }
   ],
   "source": [
    "n_epochs = 75\n",
    "\n",
    "train_loss, val_loss, val_accuracy = train_model(model, train_loader, test_loader, loss_func, opt, n_epochs)"
   ]
  },
  {
   "cell_type": "code",
   "execution_count": 34,
   "metadata": {},
   "outputs": [
    {
     "data": {
      "image/png": "[encoded data removed]",
      "text/plain": [
       "<Figure size 1500x500 with 2 Axes>"
      ]
     },
     "metadata": {},
     "output_type": "display_data"
    }
   ],
   "source": [
    "plot_train_process(train_loss, val_loss, val_accuracy)"
   ]
  },
  {
   "cell_type": "markdown",
   "metadata": {
    "colab_type": "text",
    "id": "dMui_uLJ7G0d"
   },
   "source": [
    "### Conclusions:\n",
    "Благодаря добавлению dropout мы смогли починить нашу проблему с переобученем "
   ]
  },
  {
   "cell_type": "markdown",
   "metadata": {},
   "source": []
  }
 ],
 "metadata": {
  "accelerator": "GPU",
  "colab": {
   "collapsed_sections": [],
   "name": "Overfit it.ipynb",
   "provenance": []
  },
  "kernelspec": {
   "display_name": "Python 3",
   "language": "python",
   "name": "python3"
  },
  "language_info": {
   "codemirror_mode": {
    "name": "ipython",
    "version": 3
   },
   "file_extension": ".py",
   "mimetype": "text/x-python",
   "name": "python",
   "nbconvert_exporter": "python",
   "pygments_lexer": "ipython3",
   "version": "3.11.5"
  },
  "widgets": {
   "application/vnd.jupyter.widget-state+json": {
    "0078023356f142bdbe4e13a42df460fb": {
     "model_module": "@jupyter-widgets/controls",
     "model_name": "IntProgressModel",
     "state": {
      "_dom_classes": [],
      "_model_module": "@jupyter-widgets/controls",
      "_model_module_version": "1.5.0",
      "_model_name": "IntProgressModel",
      "_view_count": null,
      "_view_module": "@jupyter-widgets/controls",
      "_view_module_version": "1.5.0",
      "_view_name": "ProgressView",
      "bar_style": "success",
      "description": "",
      "description_tooltip": null,
      "layout": "IPY_MODEL_df2e6c22b8af4a2e95bdd85fb48290a6",
      "max": 1,
      "min": 0,
      "orientation": "horizontal",
      "style": "IPY_MODEL_54a1be4ee00c44a0b72192135f62fa16",
      "value": 1
     }
    },
    "01658e0aebd84db9912ea456bd1ad030": {
     "model_module": "@jupyter-widgets/controls",
     "model_name": "HTMLModel",
     "state": {
      "_dom_classes": [],
      "_model_module": "@jupyter-widgets/controls",
      "_model_module_version": "1.5.0",
      "_model_name": "HTMLModel",
      "_view_count": null,
      "_view_module": "@jupyter-widgets/controls",
      "_view_module_version": "1.5.0",
      "_view_name": "HTMLView",
      "description": "",
      "description_tooltip": null,
      "layout": "IPY_MODEL_30540b2b63064d828fd8502fd6d08877",
      "placeholder": "​",
      "style": "IPY_MODEL_835f930bb1504982aa56c835dc7b7df7",
      "value": "4423680it [00:01, 3086127.05it/s]"
     }
    },
    "029f1768c5734beab39a592b44f75a9d": {
     "model_module": "@jupyter-widgets/base",
     "model_name": "LayoutModel",
     "state": {
      "_model_module": "@jupyter-widgets/base",
      "_model_module_version": "1.2.0",
      "_model_name": "LayoutModel",
      "_view_count": null,
      "_view_module": "@jupyter-widgets/base",
      "_view_module_version": "1.2.0",
      "_view_name": "LayoutView",
      "align_content": null,
      "align_items": null,
      "align_self": null,
      "border": null,
      "bottom": null,
      "display": null,
      "flex": null,
      "flex_flow": null,
      "grid_area": null,
      "grid_auto_columns": null,
      "grid_auto_flow": null,
      "grid_auto_rows": null,
      "grid_column": null,
      "grid_gap": null,
      "grid_row": null,
      "grid_template_areas": null,
      "grid_template_columns": null,
      "grid_template_rows": null,
      "height": null,
      "justify_content": null,
      "justify_items": null,
      "left": null,
      "margin": null,
      "max_height": null,
      "max_width": null,
      "min_height": null,
      "min_width": null,
      "object_fit": null,
      "object_position": null,
      "order": null,
      "overflow": null,
      "overflow_x": null,
      "overflow_y": null,
      "padding": null,
      "right": null,
      "top": null,
      "visibility": null,
      "width": null
     }
    },
    "181b94c37c72459ca284267bc7675469": {
     "model_module": "@jupyter-widgets/controls",
     "model_name": "DescriptionStyleModel",
     "state": {
      "_model_module": "@jupyter-widgets/controls",
      "_model_module_version": "1.5.0",
      "_model_name": "DescriptionStyleModel",
      "_view_count": null,
      "_view_module": "@jupyter-widgets/base",
      "_view_module_version": "1.2.0",
      "_view_name": "StyleView",
      "description_width": ""
     }
    },
    "26a1b39d42ee490b8732f0e3856c9114": {
     "model_module": "@jupyter-widgets/controls",
     "model_name": "ProgressStyleModel",
     "state": {
      "_model_module": "@jupyter-widgets/controls",
      "_model_module_version": "1.5.0",
      "_model_name": "ProgressStyleModel",
      "_view_count": null,
      "_view_module": "@jupyter-widgets/base",
      "_view_module_version": "1.2.0",
      "_view_name": "StyleView",
      "bar_color": null,
      "description_width": ""
     }
    },
    "29b0a8c468e6410fb390b903559d6ef5": {
     "model_module": "@jupyter-widgets/base",
     "model_name": "LayoutModel",
     "state": {
      "_model_module": "@jupyter-widgets/base",
      "_model_module_version": "1.2.0",
      "_model_name": "LayoutModel",
      "_view_count": null,
      "_view_module": "@jupyter-widgets/base",
      "_view_module_version": "1.2.0",
      "_view_name": "LayoutView",
      "align_content": null,
      "align_items": null,
      "align_self": null,
      "border": null,
      "bottom": null,
      "display": null,
      "flex": null,
      "flex_flow": null,
      "grid_area": null,
      "grid_auto_columns": null,
      "grid_auto_flow": null,
      "grid_auto_rows": null,
      "grid_column": null,
      "grid_gap": null,
      "grid_row": null,
      "grid_template_areas": null,
      "grid_template_columns": null,
      "grid_template_rows": null,
      "height": null,
      "justify_content": null,
      "justify_items": null,
      "left": null,
      "margin": null,
      "max_height": null,
      "max_width": null,
      "min_height": null,
      "min_width": null,
      "object_fit": null,
      "object_position": null,
      "order": null,
      "overflow": null,
      "overflow_x": null,
      "overflow_y": null,
      "padding": null,
      "right": null,
      "top": null,
      "visibility": null,
      "width": null
     }
    },
    "30540b2b63064d828fd8502fd6d08877": {
     "model_module": "@jupyter-widgets/base",
     "model_name": "LayoutModel",
     "state": {
      "_model_module": "@jupyter-widgets/base",
      "_model_module_version": "1.2.0",
      "_model_name": "LayoutModel",
      "_view_count": null,
      "_view_module": "@jupyter-widgets/base",
      "_view_module_version": "1.2.0",
      "_view_name": "LayoutView",
      "align_content": null,
      "align_items": null,
      "align_self": null,
      "border": null,
      "bottom": null,
      "display": null,
      "flex": null,
      "flex_flow": null,
      "grid_area": null,
      "grid_auto_columns": null,
      "grid_auto_flow": null,
      "grid_auto_rows": null,
      "grid_column": null,
      "grid_gap": null,
      "grid_row": null,
      "grid_template_areas": null,
      "grid_template_columns": null,
      "grid_template_rows": null,
      "height": null,
      "justify_content": null,
      "justify_items": null,
      "left": null,
      "margin": null,
      "max_height": null,
      "max_width": null,
      "min_height": null,
      "min_width": null,
      "object_fit": null,
      "object_position": null,
      "order": null,
      "overflow": null,
      "overflow_x": null,
      "overflow_y": null,
      "padding": null,
      "right": null,
      "top": null,
      "visibility": null,
      "width": null
     }
    },
    "4296a7e9ab704f019451001dd12c4f46": {
     "model_module": "@jupyter-widgets/controls",
     "model_name": "DescriptionStyleModel",
     "state": {
      "_model_module": "@jupyter-widgets/controls",
      "_model_module_version": "1.5.0",
      "_model_name": "DescriptionStyleModel",
      "_view_count": null,
      "_view_module": "@jupyter-widgets/base",
      "_view_module_version": "1.2.0",
      "_view_name": "StyleView",
      "description_width": ""
     }
    },
    "4c7a7ac1286649c4804fefd359a1be74": {
     "model_module": "@jupyter-widgets/base",
     "model_name": "LayoutModel",
     "state": {
      "_model_module": "@jupyter-widgets/base",
      "_model_module_version": "1.2.0",
      "_model_name": "LayoutModel",
      "_view_count": null,
      "_view_module": "@jupyter-widgets/base",
      "_view_module_version": "1.2.0",
      "_view_name": "LayoutView",
      "align_content": null,
      "align_items": null,
      "align_self": null,
      "border": null,
      "bottom": null,
      "display": null,
      "flex": null,
      "flex_flow": null,
      "grid_area": null,
      "grid_auto_columns": null,
      "grid_auto_flow": null,
      "grid_auto_rows": null,
      "grid_column": null,
      "grid_gap": null,
      "grid_row": null,
      "grid_template_areas": null,
      "grid_template_columns": null,
      "grid_template_rows": null,
      "height": null,
      "justify_content": null,
      "justify_items": null,
      "left": null,
      "margin": null,
      "max_height": null,
      "max_width": null,
      "min_height": null,
      "min_width": null,
      "object_fit": null,
      "object_position": null,
      "order": null,
      "overflow": null,
      "overflow_x": null,
      "overflow_y": null,
      "padding": null,
      "right": null,
      "top": null,
      "visibility": null,
      "width": null
     }
    },
    "545f1e0393b64b1b94710674213f4af8": {
     "model_module": "@jupyter-widgets/base",
     "model_name": "LayoutModel",
     "state": {
      "_model_module": "@jupyter-widgets/base",
      "_model_module_version": "1.2.0",
      "_model_name": "LayoutModel",
      "_view_count": null,
      "_view_module": "@jupyter-widgets/base",
      "_view_module_version": "1.2.0",
      "_view_name": "LayoutView",
      "align_content": null,
      "align_items": null,
      "align_self": null,
      "border": null,
      "bottom": null,
      "display": null,
      "flex": null,
      "flex_flow": null,
      "grid_area": null,
      "grid_auto_columns": null,
      "grid_auto_flow": null,
      "grid_auto_rows": null,
      "grid_column": null,
      "grid_gap": null,
      "grid_row": null,
      "grid_template_areas": null,
      "grid_template_columns": null,
      "grid_template_rows": null,
      "height": null,
      "justify_content": null,
      "justify_items": null,
      "left": null,
      "margin": null,
      "max_height": null,
      "max_width": null,
      "min_height": null,
      "min_width": null,
      "object_fit": null,
      "object_position": null,
      "order": null,
      "overflow": null,
      "overflow_x": null,
      "overflow_y": null,
      "padding": null,
      "right": null,
      "top": null,
      "visibility": null,
      "width": null
     }
    },
    "54a1be4ee00c44a0b72192135f62fa16": {
     "model_module": "@jupyter-widgets/controls",
     "model_name": "ProgressStyleModel",
     "state": {
      "_model_module": "@jupyter-widgets/controls",
      "_model_module_version": "1.5.0",
      "_model_name": "ProgressStyleModel",
      "_view_count": null,
      "_view_module": "@jupyter-widgets/base",
      "_view_module_version": "1.2.0",
      "_view_name": "StyleView",
      "bar_color": null,
      "description_width": ""
     }
    },
    "56418812bda04e7293dd8839018ae839": {
     "model_module": "@jupyter-widgets/base",
     "model_name": "LayoutModel",
     "state": {
      "_model_module": "@jupyter-widgets/base",
      "_model_module_version": "1.2.0",
      "_model_name": "LayoutModel",
      "_view_count": null,
      "_view_module": "@jupyter-widgets/base",
      "_view_module_version": "1.2.0",
      "_view_name": "LayoutView",
      "align_content": null,
      "align_items": null,
      "align_self": null,
      "border": null,
      "bottom": null,
      "display": null,
      "flex": null,
      "flex_flow": null,
      "grid_area": null,
      "grid_auto_columns": null,
      "grid_auto_flow": null,
      "grid_auto_rows": null,
      "grid_column": null,
      "grid_gap": null,
      "grid_row": null,
      "grid_template_areas": null,
      "grid_template_columns": null,
      "grid_template_rows": null,
      "height": null,
      "justify_content": null,
      "justify_items": null,
      "left": null,
      "margin": null,
      "max_height": null,
      "max_width": null,
      "min_height": null,
      "min_width": null,
      "object_fit": null,
      "object_position": null,
      "order": null,
      "overflow": null,
      "overflow_x": null,
      "overflow_y": null,
      "padding": null,
      "right": null,
      "top": null,
      "visibility": null,
      "width": null
     }
    },
    "583e6f0878e04a0bbebf5d80d9d712dc": {
     "model_module": "@jupyter-widgets/base",
     "model_name": "LayoutModel",
     "state": {
      "_model_module": "@jupyter-widgets/base",
      "_model_module_version": "1.2.0",
      "_model_name": "LayoutModel",
      "_view_count": null,
      "_view_module": "@jupyter-widgets/base",
      "_view_module_version": "1.2.0",
      "_view_name": "LayoutView",
      "align_content": null,
      "align_items": null,
      "align_self": null,
      "border": null,
      "bottom": null,
      "display": null,
      "flex": null,
      "flex_flow": null,
      "grid_area": null,
      "grid_auto_columns": null,
      "grid_auto_flow": null,
      "grid_auto_rows": null,
      "grid_column": null,
      "grid_gap": null,
      "grid_row": null,
      "grid_template_areas": null,
      "grid_template_columns": null,
      "grid_template_rows": null,
      "height": null,
      "justify_content": null,
      "justify_items": null,
      "left": null,
      "margin": null,
      "max_height": null,
      "max_width": null,
      "min_height": null,
      "min_width": null,
      "object_fit": null,
      "object_position": null,
      "order": null,
      "overflow": null,
      "overflow_x": null,
      "overflow_y": null,
      "padding": null,
      "right": null,
      "top": null,
      "visibility": null,
      "width": null
     }
    },
    "590134f878a74adb98fd129816fde03c": {
     "model_module": "@jupyter-widgets/controls",
     "model_name": "HTMLModel",
     "state": {
      "_dom_classes": [],
      "_model_module": "@jupyter-widgets/controls",
      "_model_module_version": "1.5.0",
      "_model_name": "HTMLModel",
      "_view_count": null,
      "_view_module": "@jupyter-widgets/controls",
      "_view_module_version": "1.5.0",
      "_view_name": "HTMLView",
      "description": "",
      "description_tooltip": null,
      "layout": "IPY_MODEL_29b0a8c468e6410fb390b903559d6ef5",
      "placeholder": "​",
      "style": "IPY_MODEL_4296a7e9ab704f019451001dd12c4f46",
      "value": "26427392it [00:02, 10150318.78it/s]"
     }
    },
    "748c2a2536394a50aab12eef92442fcb": {
     "model_module": "@jupyter-widgets/base",
     "model_name": "LayoutModel",
     "state": {
      "_model_module": "@jupyter-widgets/base",
      "_model_module_version": "1.2.0",
      "_model_name": "LayoutModel",
      "_view_count": null,
      "_view_module": "@jupyter-widgets/base",
      "_view_module_version": "1.2.0",
      "_view_name": "LayoutView",
      "align_content": null,
      "align_items": null,
      "align_self": null,
      "border": null,
      "bottom": null,
      "display": null,
      "flex": null,
      "flex_flow": null,
      "grid_area": null,
      "grid_auto_columns": null,
      "grid_auto_flow": null,
      "grid_auto_rows": null,
      "grid_column": null,
      "grid_gap": null,
      "grid_row": null,
      "grid_template_areas": null,
      "grid_template_columns": null,
      "grid_template_rows": null,
      "height": null,
      "justify_content": null,
      "justify_items": null,
      "left": null,
      "margin": null,
      "max_height": null,
      "max_width": null,
      "min_height": null,
      "min_width": null,
      "object_fit": null,
      "object_position": null,
      "order": null,
      "overflow": null,
      "overflow_x": null,
      "overflow_y": null,
      "padding": null,
      "right": null,
      "top": null,
      "visibility": null,
      "width": null
     }
    },
    "835f930bb1504982aa56c835dc7b7df7": {
     "model_module": "@jupyter-widgets/controls",
     "model_name": "DescriptionStyleModel",
     "state": {
      "_model_module": "@jupyter-widgets/controls",
      "_model_module_version": "1.5.0",
      "_model_name": "DescriptionStyleModel",
      "_view_count": null,
      "_view_module": "@jupyter-widgets/base",
      "_view_module_version": "1.2.0",
      "_view_name": "StyleView",
      "description_width": ""
     }
    },
    "92685fe1840a4555a6962c006ea90c23": {
     "model_module": "@jupyter-widgets/controls",
     "model_name": "ProgressStyleModel",
     "state": {
      "_model_module": "@jupyter-widgets/controls",
      "_model_module_version": "1.5.0",
      "_model_name": "ProgressStyleModel",
      "_view_count": null,
      "_view_module": "@jupyter-widgets/base",
      "_view_module_version": "1.2.0",
      "_view_name": "StyleView",
      "bar_color": null,
      "description_width": ""
     }
    },
    "9761d073bcef4c15ad64b01d7bef3561": {
     "model_module": "@jupyter-widgets/controls",
     "model_name": "DescriptionStyleModel",
     "state": {
      "_model_module": "@jupyter-widgets/controls",
      "_model_module_version": "1.5.0",
      "_model_name": "DescriptionStyleModel",
      "_view_count": null,
      "_view_module": "@jupyter-widgets/base",
      "_view_module_version": "1.2.0",
      "_view_name": "StyleView",
      "description_width": ""
     }
    },
    "9faad8d0c45746ab8e06e120bb3ec0b6": {
     "model_module": "@jupyter-widgets/controls",
     "model_name": "IntProgressModel",
     "state": {
      "_dom_classes": [],
      "_model_module": "@jupyter-widgets/controls",
      "_model_module_version": "1.5.0",
      "_model_name": "IntProgressModel",
      "_view_count": null,
      "_view_module": "@jupyter-widgets/controls",
      "_view_module_version": "1.5.0",
      "_view_name": "ProgressView",
      "bar_style": "success",
      "description": "",
      "description_tooltip": null,
      "layout": "IPY_MODEL_aa0dc032d1644bad8e741cf1696d9a70",
      "max": 1,
      "min": 0,
      "orientation": "horizontal",
      "style": "IPY_MODEL_92685fe1840a4555a6962c006ea90c23",
      "value": 1
     }
    },
    "a00cbbf2385c426bb848399f3c13b70f": {
     "model_module": "@jupyter-widgets/controls",
     "model_name": "HBoxModel",
     "state": {
      "_dom_classes": [],
      "_model_module": "@jupyter-widgets/controls",
      "_model_module_version": "1.5.0",
      "_model_name": "HBoxModel",
      "_view_count": null,
      "_view_module": "@jupyter-widgets/controls",
      "_view_module_version": "1.5.0",
      "_view_name": "HBoxView",
      "box_style": "",
      "children": [
       "IPY_MODEL_9faad8d0c45746ab8e06e120bb3ec0b6",
       "IPY_MODEL_590134f878a74adb98fd129816fde03c"
      ],
      "layout": "IPY_MODEL_4c7a7ac1286649c4804fefd359a1be74"
     }
    },
    "aa0dc032d1644bad8e741cf1696d9a70": {
     "model_module": "@jupyter-widgets/base",
     "model_name": "LayoutModel",
     "state": {
      "_model_module": "@jupyter-widgets/base",
      "_model_module_version": "1.2.0",
      "_model_name": "LayoutModel",
      "_view_count": null,
      "_view_module": "@jupyter-widgets/base",
      "_view_module_version": "1.2.0",
      "_view_name": "LayoutView",
      "align_content": null,
      "align_items": null,
      "align_self": null,
      "border": null,
      "bottom": null,
      "display": null,
      "flex": null,
      "flex_flow": null,
      "grid_area": null,
      "grid_auto_columns": null,
      "grid_auto_flow": null,
      "grid_auto_rows": null,
      "grid_column": null,
      "grid_gap": null,
      "grid_row": null,
      "grid_template_areas": null,
      "grid_template_columns": null,
      "grid_template_rows": null,
      "height": null,
      "justify_content": null,
      "justify_items": null,
      "left": null,
      "margin": null,
      "max_height": null,
      "max_width": null,
      "min_height": null,
      "min_width": null,
      "object_fit": null,
      "object_position": null,
      "order": null,
      "overflow": null,
      "overflow_x": null,
      "overflow_y": null,
      "padding": null,
      "right": null,
      "top": null,
      "visibility": null,
      "width": null
     }
    },
    "b2f66cc8930240a5b74d5480377496ed": {
     "model_module": "@jupyter-widgets/controls",
     "model_name": "HTMLModel",
     "state": {
      "_dom_classes": [],
      "_model_module": "@jupyter-widgets/controls",
      "_model_module_version": "1.5.0",
      "_model_name": "HTMLModel",
      "_view_count": null,
      "_view_module": "@jupyter-widgets/controls",
      "_view_module_version": "1.5.0",
      "_view_name": "HTMLView",
      "description": "",
      "description_tooltip": null,
      "layout": "IPY_MODEL_56418812bda04e7293dd8839018ae839",
      "placeholder": "​",
      "style": "IPY_MODEL_9761d073bcef4c15ad64b01d7bef3561",
      "value": "32768it [00:00, 71991.19it/s]"
     }
    },
    "b9d32ac7b88c4f4e900b160f05c016a3": {
     "model_module": "@jupyter-widgets/controls",
     "model_name": "IntProgressModel",
     "state": {
      "_dom_classes": [],
      "_model_module": "@jupyter-widgets/controls",
      "_model_module_version": "1.5.0",
      "_model_name": "IntProgressModel",
      "_view_count": null,
      "_view_module": "@jupyter-widgets/controls",
      "_view_module_version": "1.5.0",
      "_view_name": "ProgressView",
      "bar_style": "success",
      "description": "",
      "description_tooltip": null,
      "layout": "IPY_MODEL_f280e146d6c54fb59f8ce36f2d1cc6a3",
      "max": 1,
      "min": 0,
      "orientation": "horizontal",
      "style": "IPY_MODEL_c1d770aa9eb34e4d942967c507f94009",
      "value": 1
     }
    },
    "bebcff464bfc44ffa82e311a39cae7d7": {
     "model_module": "@jupyter-widgets/base",
     "model_name": "LayoutModel",
     "state": {
      "_model_module": "@jupyter-widgets/base",
      "_model_module_version": "1.2.0",
      "_model_name": "LayoutModel",
      "_view_count": null,
      "_view_module": "@jupyter-widgets/base",
      "_view_module_version": "1.2.0",
      "_view_name": "LayoutView",
      "align_content": null,
      "align_items": null,
      "align_self": null,
      "border": null,
      "bottom": null,
      "display": null,
      "flex": null,
      "flex_flow": null,
      "grid_area": null,
      "grid_auto_columns": null,
      "grid_auto_flow": null,
      "grid_auto_rows": null,
      "grid_column": null,
      "grid_gap": null,
      "grid_row": null,
      "grid_template_areas": null,
      "grid_template_columns": null,
      "grid_template_rows": null,
      "height": null,
      "justify_content": null,
      "justify_items": null,
      "left": null,
      "margin": null,
      "max_height": null,
      "max_width": null,
      "min_height": null,
      "min_width": null,
      "object_fit": null,
      "object_position": null,
      "order": null,
      "overflow": null,
      "overflow_x": null,
      "overflow_y": null,
      "padding": null,
      "right": null,
      "top": null,
      "visibility": null,
      "width": null
     }
    },
    "bf33fa62bd4546bdbe142239f472fbb3": {
     "model_module": "@jupyter-widgets/controls",
     "model_name": "IntProgressModel",
     "state": {
      "_dom_classes": [],
      "_model_module": "@jupyter-widgets/controls",
      "_model_module_version": "1.5.0",
      "_model_name": "IntProgressModel",
      "_view_count": null,
      "_view_module": "@jupyter-widgets/controls",
      "_view_module_version": "1.5.0",
      "_view_name": "ProgressView",
      "bar_style": "success",
      "description": "",
      "description_tooltip": null,
      "layout": "IPY_MODEL_545f1e0393b64b1b94710674213f4af8",
      "max": 1,
      "min": 0,
      "orientation": "horizontal",
      "style": "IPY_MODEL_26a1b39d42ee490b8732f0e3856c9114",
      "value": 1
     }
    },
    "c1d770aa9eb34e4d942967c507f94009": {
     "model_module": "@jupyter-widgets/controls",
     "model_name": "ProgressStyleModel",
     "state": {
      "_model_module": "@jupyter-widgets/controls",
      "_model_module_version": "1.5.0",
      "_model_name": "ProgressStyleModel",
      "_view_count": null,
      "_view_module": "@jupyter-widgets/base",
      "_view_module_version": "1.2.0",
      "_view_name": "StyleView",
      "bar_color": null,
      "description_width": ""
     }
    },
    "ca04c2ebb96f48109ef440c260aa125a": {
     "model_module": "@jupyter-widgets/controls",
     "model_name": "HTMLModel",
     "state": {
      "_dom_classes": [],
      "_model_module": "@jupyter-widgets/controls",
      "_model_module_version": "1.5.0",
      "_model_name": "HTMLModel",
      "_view_count": null,
      "_view_module": "@jupyter-widgets/controls",
      "_view_module_version": "1.5.0",
      "_view_name": "HTMLView",
      "description": "",
      "description_tooltip": null,
      "layout": "IPY_MODEL_748c2a2536394a50aab12eef92442fcb",
      "placeholder": "​",
      "style": "IPY_MODEL_181b94c37c72459ca284267bc7675469",
      "value": "8192it [00:00, 25429.90it/s]"
     }
    },
    "df2e6c22b8af4a2e95bdd85fb48290a6": {
     "model_module": "@jupyter-widgets/base",
     "model_name": "LayoutModel",
     "state": {
      "_model_module": "@jupyter-widgets/base",
      "_model_module_version": "1.2.0",
      "_model_name": "LayoutModel",
      "_view_count": null,
      "_view_module": "@jupyter-widgets/base",
      "_view_module_version": "1.2.0",
      "_view_name": "LayoutView",
      "align_content": null,
      "align_items": null,
      "align_self": null,
      "border": null,
      "bottom": null,
      "display": null,
      "flex": null,
      "flex_flow": null,
      "grid_area": null,
      "grid_auto_columns": null,
      "grid_auto_flow": null,
      "grid_auto_rows": null,
      "grid_column": null,
      "grid_gap": null,
      "grid_row": null,
      "grid_template_areas": null,
      "grid_template_columns": null,
      "grid_template_rows": null,
      "height": null,
      "justify_content": null,
      "justify_items": null,
      "left": null,
      "margin": null,
      "max_height": null,
      "max_width": null,
      "min_height": null,
      "min_width": null,
      "object_fit": null,
      "object_position": null,
      "order": null,
      "overflow": null,
      "overflow_x": null,
      "overflow_y": null,
      "padding": null,
      "right": null,
      "top": null,
      "visibility": null,
      "width": null
     }
    },
    "e6efdf93b1444984810dd32d506227d5": {
     "model_module": "@jupyter-widgets/controls",
     "model_name": "HBoxModel",
     "state": {
      "_dom_classes": [],
      "_model_module": "@jupyter-widgets/controls",
      "_model_module_version": "1.5.0",
      "_model_name": "HBoxModel",
      "_view_count": null,
      "_view_module": "@jupyter-widgets/controls",
      "_view_module_version": "1.5.0",
      "_view_name": "HBoxView",
      "box_style": "",
      "children": [
       "IPY_MODEL_0078023356f142bdbe4e13a42df460fb",
       "IPY_MODEL_01658e0aebd84db9912ea456bd1ad030"
      ],
      "layout": "IPY_MODEL_583e6f0878e04a0bbebf5d80d9d712dc"
     }
    },
    "e734818e32a54c71b6397ef84b35bf07": {
     "model_module": "@jupyter-widgets/controls",
     "model_name": "HBoxModel",
     "state": {
      "_dom_classes": [],
      "_model_module": "@jupyter-widgets/controls",
      "_model_module_version": "1.5.0",
      "_model_name": "HBoxModel",
      "_view_count": null,
      "_view_module": "@jupyter-widgets/controls",
      "_view_module_version": "1.5.0",
      "_view_name": "HBoxView",
      "box_style": "",
      "children": [
       "IPY_MODEL_bf33fa62bd4546bdbe142239f472fbb3",
       "IPY_MODEL_ca04c2ebb96f48109ef440c260aa125a"
      ],
      "layout": "IPY_MODEL_029f1768c5734beab39a592b44f75a9d"
     }
    },
    "f280e146d6c54fb59f8ce36f2d1cc6a3": {
     "model_module": "@jupyter-widgets/base",
     "model_name": "LayoutModel",
     "state": {
      "_model_module": "@jupyter-widgets/base",
      "_model_module_version": "1.2.0",
      "_model_name": "LayoutModel",
      "_view_count": null,
      "_view_module": "@jupyter-widgets/base",
      "_view_module_version": "1.2.0",
      "_view_name": "LayoutView",
      "align_content": null,
      "align_items": null,
      "align_self": null,
      "border": null,
      "bottom": null,
      "display": null,
      "flex": null,
      "flex_flow": null,
      "grid_area": null,
      "grid_auto_columns": null,
      "grid_auto_flow": null,
      "grid_auto_rows": null,
      "grid_column": null,
      "grid_gap": null,
      "grid_row": null,
      "grid_template_areas": null,
      "grid_template_columns": null,
      "grid_template_rows": null,
      "height": null,
      "justify_content": null,
      "justify_items": null,
      "left": null,
      "margin": null,
      "max_height": null,
      "max_width": null,
      "min_height": null,
      "min_width": null,
      "object_fit": null,
      "object_position": null,
      "order": null,
      "overflow": null,
      "overflow_x": null,
      "overflow_y": null,
      "padding": null,
      "right": null,
      "top": null,
      "visibility": null,
      "width": null
     }
    },
    "fb66cde27d0849bba4947c024e198f7f": {
     "model_module": "@jupyter-widgets/controls",
     "model_name": "HBoxModel",
     "state": {
      "_dom_classes": [],
      "_model_module": "@jupyter-widgets/controls",
      "_model_module_version": "1.5.0",
      "_model_name": "HBoxModel",
      "_view_count": null,
      "_view_module": "@jupyter-widgets/controls",
      "_view_module_version": "1.5.0",
      "_view_name": "HBoxView",
      "box_style": "",
      "children": [
       "IPY_MODEL_b9d32ac7b88c4f4e900b160f05c016a3",
       "IPY_MODEL_b2f66cc8930240a5b74d5480377496ed"
      ],
      "layout": "IPY_MODEL_bebcff464bfc44ffa82e311a39cae7d7"
     }
    }
   }
  }
 },
 "nbformat": 4,
 "nbformat_minor": 1
}
