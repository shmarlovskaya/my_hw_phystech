{
 "cells": [
  {
   "cell_type": "markdown",
   "metadata": {},
   "source": [
    "## Lab 2"
   ]
  },
  {
   "cell_type": "markdown",
   "metadata": {},
   "source": [
    "### Part 3. Poetry generation\n",
    "\n",
    "Let's try to generate some poetry using RNNs. \n",
    "\n",
    "You have several choices here: \n",
    "\n",
    "* The Shakespeare sonnets, file `sonnets.txt` available in the notebook directory.\n",
    "\n",
    "* Роман в стихах \"Евгений Онегин\" Александра Сергеевича Пушкина. В предобработанном виде доступен по [ссылке](https://github.com/attatrol/data_sources/blob/master/onegin.txt).\n",
    "\n",
    "* Some other text source, if it will be approved by the course staff.\n",
    "\n",
    "Text generation can be designed in several steps:\n",
    "    \n",
    "1. Data loading.\n",
    "2. Dictionary generation.\n",
    "3. Data preprocessing.\n",
    "4. Model (neural network) training.\n",
    "5. Text generation (model evaluation).\n"
   ]
  },
  {
   "cell_type": "code",
   "execution_count": 12,
   "metadata": {},
   "outputs": [],
   "source": [
    "import string\n",
    "import os\n",
    "import re\n",
    "import requests\n",
    "\n",
    "import numpy as np\n",
    "import torch, torch.nn as nn\n",
    "import torch.nn.functional as F\n",
    "import numpy as np\n",
    "import matplotlib.pyplot as plt\n",
    "%matplotlib inline\n",
    "from IPython.display import clear_output\n",
    "from random import sample\n",
    "import time"
   ]
  },
  {
   "cell_type": "markdown",
   "metadata": {},
   "source": [
    "### Data loading: Shakespeare"
   ]
  },
  {
   "cell_type": "markdown",
   "metadata": {},
   "source": [
    "Shakespeare sonnets are awailable at this [link](http://www.gutenberg.org/ebooks/1041?msg=welcome_stranger). In addition, they are stored in the same directory as this notebook (`sonnetes.txt`). Simple preprocessing is already done for you in the next cell: all technical info is dropped."
   ]
  },
  {
   "cell_type": "code",
   "execution_count": 13,
   "metadata": {
    "collapsed": true
   },
   "outputs": [],
   "source": [
    "if not os.path.exists('sonnets.txt'):\n",
    "    !wget https://raw.githubusercontent.com/girafe-ai/ml-course/22f_basic/homeworks_basic/lab02_deep_learning/sonnets.txt\n",
    "\n",
    "with open('sonnets.txt', 'r') as iofile:\n",
    "    text = iofile.readlines()\n",
    "    \n",
    "TEXT_START = 45\n",
    "TEXT_END = -368\n",
    "text = text[TEXT_START : TEXT_END]\n",
    "assert len(text) == 2616"
   ]
  },
  {
   "cell_type": "markdown",
   "metadata": {},
   "source": [
    "In opposite to the in-class practice, this time we want to predict complex text. Let's reduce the complexity of the task and lowercase all the symbols.\n",
    "\n",
    "Now variable `text` is a list of strings. Join all the strings into one and lowercase it."
   ]
  },
  {
   "cell_type": "code",
   "execution_count": 14,
   "metadata": {},
   "outputs": [
    {
     "name": "stdout",
     "output_type": "stream",
     "text": [
      "OK!\n"
     ]
    }
   ],
   "source": [
    "# Join all the strings into one and lowercase it\n",
    "# Put result into variable text.\n",
    "\n",
    "# Your great code here\n",
    "str = \"\";\n",
    "for i in range(len(text)):\n",
    "    str = str + text[i]\n",
    "\n",
    "text = str.lower()\n",
    "\n",
    "assert len(text) == 100225, 'Are you sure you have concatenated all the strings?'\n",
    "assert not any([x in set(text) for x in string.ascii_uppercase]), 'Uppercase letters are present'\n",
    "print('OK!')"
   ]
  },
  {
   "cell_type": "code",
   "execution_count": 16,
   "metadata": {},
   "outputs": [],
   "source": [
    "tmp = []\n",
    "for i in range(0, len(text)):\n",
    "    tmp.append(text[i].lower())\n",
    "\n",
    "text = tmp\n",
    "\n",
    "text = ''.join(text)\n",
    "parts = re.split('\\n\\n\\s*[a-z]*\\n\\n', text)"
   ]
  },
  {
   "cell_type": "markdown",
   "metadata": {},
   "source": [
    "In opposite to the in-class practice, this time we want to predict complex text. Let's reduce the complexity of the task and lowercase all the symbols.\n",
    "\n",
    "Now variable `text` is a list of strings. Join all the strings into one and lowercase it."
   ]
  },
  {
   "cell_type": "code",
   "execution_count": 19,
   "metadata": {},
   "outputs": [],
   "source": [
    "text = ''.join(line.lower() for line in text)"
   ]
  },
  {
   "cell_type": "markdown",
   "metadata": {},
   "source": [
    "Put all the characters, that you've seen in the text, into variable `tokens`."
   ]
  },
  {
   "cell_type": "code",
   "execution_count": 20,
   "metadata": {},
   "outputs": [],
   "source": [
    "parts = re.split(r'\\n\\n\\s*[a-z]*\\n\\n', text)"
   ]
  },
  {
   "cell_type": "code",
   "execution_count": 21,
   "metadata": {},
   "outputs": [
    {
     "name": "stdout",
     "output_type": "stream",
     "text": [
      "['\\n', ' ', '!', \"'\", '(', ')', ',', '-', '.', ':', ';', '?', 'a', 'b', 'c', 'd', 'e', 'f', 'g', 'h', 'i', 'j', 'k', 'l', 'm', 'n', 'o', 'p', 'q', 'r', 's', 't', 'u', 'v', 'w', 'x', 'y', 'z']\n",
      "38\n"
     ]
    }
   ],
   "source": [
    "tokens = sorted(set(text))\n",
    "print(tokens)\n",
    "\n",
    "print(len(tokens))"
   ]
  },
  {
   "cell_type": "markdown",
   "metadata": {},
   "source": [
    "Create dictionary `token_to_idx = {<char>: <index>}` and dictionary `idx_to_token = {<index>: <char>}`"
   ]
  },
  {
   "cell_type": "code",
   "execution_count": 22,
   "metadata": {
    "collapsed": true
   },
   "outputs": [
    {
     "data": {
      "text/plain": [
       "38"
      ]
     },
     "execution_count": 22,
     "metadata": {},
     "output_type": "execute_result"
    }
   ],
   "source": [
    "token_to_idx = {}\n",
    "idx_to_token = {}\n",
    "\n",
    "for i in range(len(tokens)):\n",
    "    token_to_idx[tokens[i]] = i;\n",
    "    idx_to_token[i] = tokens[i];\n",
    "    \n",
    "num_tokens = len(tokens)\n",
    "num_tokens"
   ]
  },
  {
   "cell_type": "markdown",
   "metadata": {},
   "source": [
    "*Comment: in this task we have only 38 different tokens, so let's use one-hot encoding.*"
   ]
  },
  {
   "cell_type": "code",
   "execution_count": 23,
   "metadata": {},
   "outputs": [],
   "source": [
    "def to_matrix(parts, max_len=None, pad=token_to_idx[' '], dtype='int32', batch_first=True):\n",
    "    # Определяем максимальную длину строки: max_len или длина самой длинной строки в parts\n",
    "    max_len = max_len or max(map(len, parts))\n",
    "    \n",
    "    # Создаем матрицу parts_ix размером [количество строк, max_len], заполняем ее значением паддинга (pad)\n",
    "    parts_ix = np.zeros([len(parts), max_len], dtype) + pad\n",
    "\n",
    "    # Проходим по каждой строке в parts\n",
    "    for i in range(len(parts)):\n",
    "        # Преобразуем строку в список индексов символов, используя словарь token_to_idx\n",
    "        line_ix = [token_to_idx[c] for c in parts[i]]\n",
    "        \n",
    "        # Копируем индексы строки в соответствующую строку матрицы parts_ix\n",
    "        # Обрезаем или дополняем строку до max_len\n",
    "        parts_ix[i, :len(line_ix)] = line_ix\n",
    "\n",
    "    # Если параметр batch_first=False, транспонируем матрицу, чтобы строки стали столбцами\n",
    "    if not batch_first:\n",
    "        parts_ix = np.transpose(parts_ix)\n",
    "\n",
    "    # Возвращаем итоговую матрицу\n",
    "    return parts_ix"
   ]
  },
  {
   "cell_type": "code",
   "execution_count": 24,
   "metadata": {},
   "outputs": [
    {
     "name": "stdout",
     "output_type": "stream",
     "text": [
      "[[ 1  1 17 ...  1  1  1]\n",
      " [ 1  1 34 ... 23 15  8]\n",
      " [ 1  1 23 ...  1  1  1]\n",
      " [ 1  1 32 ...  1  1  1]\n",
      " [ 1  1 31 ...  1  1  1]]\n"
     ]
    }
   ],
   "source": [
    "batch_ix = to_matrix(parts[:5])\n",
    "print(batch_ix)"
   ]
  },
  {
   "cell_type": "markdown",
   "metadata": {},
   "source": [
    "### Building the model"
   ]
  },
  {
   "cell_type": "markdown",
   "metadata": {},
   "source": [
    "Now we want to build and train recurrent neural net which would be able to something similar to Shakespeare's poetry.\n",
    "\n",
    "Let's use vanilla RNN, similar to the one created during the lesson."
   ]
  },
  {
   "cell_type": "code",
   "execution_count": 25,
   "metadata": {
    "collapsed": true
   },
   "outputs": [],
   "source": [
    "# Your code here\n",
    "\n",
    "class CharRNNCell(nn.Module):\n",
    "    \"\"\"\n",
    "    Реализация RNN ячейки для работы с последовательностями символов.\n",
    "    \"\"\"\n",
    "    def __init__(self, num_tokens=len(tokens), embedding_size=16, rnn_num_units=64):\n",
    "    \n",
    "        super(self.__class__, self).__init__()  # Инициализация базового класса nn.Module\n",
    "        self.num_units = rnn_num_units  # Сохраняем количество нейронов в скрытом состоянии\n",
    "        \n",
    "        # Определяем слой эмбеддингов: сопоставляет каждому символу вектор из embedding_size\n",
    "        self.embedding = nn.Embedding(num_tokens, embedding_size)\n",
    "        \n",
    "        # Определяем линейный слой для обновления скрытого состояния RNN\n",
    "        # Принимает на вход объединенный вектор эмбеддингов (embedding_size) и скрытого состояния (rnn_num_units)\n",
    "        self.rnn_update = nn.Linear(embedding_size + rnn_num_units, rnn_num_units)\n",
    "        \n",
    "        # Определяем линейный слой для преобразования скрытого состояния в логиты (предсказания вероятностей)\n",
    "        self.rnn_to_logits = nn.Linear(rnn_num_units, num_tokens)\n",
    "    \n",
    "    def forward(self, x, h_prev):\n",
    "     \n",
    "        # Преобразуем токены в их эмбеддинги, размерность [batch_size, embedding_size]\n",
    "        x_emb = self.embedding(x)\n",
    "        \n",
    "        # Объединяем эмбеддинги текущего символа и скрытое состояние\n",
    "        # Размерность объединённого вектора: [batch_size, embedding_size + rnn_num_units]\n",
    "        x_and_h = torch.cat([x_emb, h_prev], dim=1)\n",
    "        \n",
    "        # Обновляем скрытое состояние RNN через линейный слой\n",
    "        h_next = self.rnn_update(x_and_h)\n",
    "        \n",
    "        # Применяем функцию активации tanh для ограничения значений скрытого состояния\n",
    "        h_next = torch.tanh(h_next)\n",
    "      \n",
    "        # Преобразуем новое скрытое состояние в логиты для предсказания следующего символа\n",
    "        logits = self.rnn_to_logits(h_next)\n",
    "        \n",
    "        # Возвращаем новое скрытое состояние и логарифмы вероятностей (log_softmax)\n",
    "        return h_next, F.log_softmax(logits, -1)\n",
    "    \n",
    "    def initial_state(self, batch_size):\n",
    "        return torch.zeros(batch_size, self.num_units, requires_grad=True)\n"
   ]
  },
  {
   "cell_type": "code",
   "execution_count": 26,
   "metadata": {},
   "outputs": [],
   "source": [
    "char_rnn = CharRNNCell()\n",
    "criterion = nn.NLLLoss()\n",
    "\n",
    "def rnn_loop(char_rnn, batch_ix):\n",
    "    # Определяем размер батча и длину последовательности\n",
    "    batch_size, max_length = batch_ix.size()\n",
    "\n",
    "    # Инициализируем скрытое состояние RNN размером [batch_size, rnn_num_units], заполненное нулями\n",
    "    hid_state = char_rnn.initial_state(batch_size)\n",
    "\n",
    "    # Список для сохранения логарифмов вероятностей на каждом шаге\n",
    "    logprobs = []\n",
    "\n",
    "    # Цикл по каждому временному шагу\n",
    "    # Используем .transpose(0,1), чтобы сделать последовательности главным измерением (размер [max_length, batch_size])\n",
    "    for x_t in batch_ix.transpose(0, 1):\n",
    "        # Применяем RNN к текущему токену x_t и предыдущему скрытому состоянию hid_state\n",
    "        # hid_state: новое скрытое состояние\n",
    "        # logp_next: логарифмы вероятностей для следующего символа\n",
    "        hid_state, logp_next = char_rnn(x_t, hid_state)\n",
    "\n",
    "        # Сохраняем логарифмы вероятностей для текущего временного шага\n",
    "        logprobs.append(logp_next)\n",
    "\n",
    "    # Объединяем список logprobs в один тензор размером [max_length, batch_size, num_tokens],\n",
    "    # затем транспонируем обратно в [batch_size, max_length, num_tokens]\n",
    "    return torch.stack(logprobs, dim=1)\n"
   ]
  },
  {
   "cell_type": "markdown",
   "metadata": {},
   "source": [
    "Plot the loss function (axis X: number of epochs, axis Y: loss function)."
   ]
  },
  {
   "cell_type": "code",
   "execution_count": 27,
   "metadata": {
    "collapsed": true
   },
   "outputs": [
    {
     "data": {
      "image/png": "[encoded data removed]",
      "text/plain": [
       "<Figure size 640x480 with 1 Axes>"
      ]
     },
     "metadata": {},
     "output_type": "display_data"
    }
   ],
   "source": [
    "# Создаем экземпляр CharRNNCell — это наша RNN ячейка\n",
    "char_rnn = CharRNNCell()\n",
    "\n",
    "# Определяем функцию потерь: Negative Log-Likelihood Loss (NLLLoss), подходит для задачи классификации\n",
    "criterion = nn.NLLLoss()\n",
    "\n",
    "# Создаем оптимизатор Adam, который будет обновлять параметры RNN\n",
    "opt = torch.optim.Adam(char_rnn.parameters())\n",
    "\n",
    "# Инициализируем список для хранения значений функции потерь на каждом шаге обучения\n",
    "history = []\n",
    "\n",
    "# Основной цикл обучения, 1000 итераций\n",
    "for i in range(1000):\n",
    "    # Получаем батч данных: выбираем 2 случайные последовательности из parts\n",
    "    batch_ix = to_matrix(sample(parts, 2))\n",
    "    \n",
    "    # Преобразуем батч в тензор типа int64, чтобы он подходил для работы с RNN\n",
    "    batch_ix = torch.tensor(batch_ix, dtype=torch.int64)\n",
    "    \n",
    "    # Прогоняем текущий батч через RNN\n",
    "    # logp_seq — логарифмы вероятностей предсказанных токенов\n",
    "    logp_seq = rnn_loop(char_rnn, batch_ix)\n",
    "    \n",
    "    # Вычисляем предсказания (логарифмы вероятностей) для всех токенов, кроме последнего\n",
    "    # Размерность predictions_logp: [batch_size, max_length-1, num_tokens]\n",
    "    predictions_logp = logp_seq[:, :-1]\n",
    "    \n",
    "    # Реальные значения следующих токенов (целевые значения)\n",
    "    # Размерность actual_next_tokens: [batch_size, max_length-1]\n",
    "    actual_next_tokens = batch_ix[:, 1:]\n",
    "    \n",
    "    # Вычисляем функцию потерь (loss)\n",
    "    # Преобразуем predictions_logp и actual_next_tokens в векторы для NLLLoss\n",
    "    # predictions_logp.view(-1, num_tokens): [batch_size * (max_length-1), num_tokens]\n",
    "    # actual_next_tokens.view(-1): [batch_size * (max_length-1)]\n",
    "    loss = criterion(\n",
    "        predictions_logp.contiguous().view(-1, num_tokens),\n",
    "        actual_next_tokens.contiguous().view(-1)\n",
    "    )\n",
    "\n",
    "    # Вычисляем градиенты по функции потерь\n",
    "    loss.backward()\n",
    "\n",
    "    # Обновляем параметры RNN с помощью оптимизатора Adam\n",
    "    opt.step()\n",
    "    \n",
    "    # Обнуляем градиенты перед следующей итерацией\n",
    "    opt.zero_grad()\n",
    "    \n",
    "    # Сохраняем значение функции потерь в истории для последующего анализа\n",
    "    history.append(loss.data.numpy())\n",
    "\n",
    "    # Каждые 100 итераций обновляем график функции потерь\n",
    "    if (i+1) % 100 == 0:\n",
    "        clear_output(True)  # Очищаем вывод, чтобы обновить график\n",
    "        plt.plot(history, label='loss')  # Строим график функции потерь\n",
    "        plt.legend()  # Добавляем легенду\n",
    "        plt.show()  # Показываем график\n"
   ]
  },
  {
   "cell_type": "code",
   "execution_count": 28,
   "metadata": {},
   "outputs": [],
   "source": [
    "def generate_sample(char_rnn, seed_phrase=' Hello', max_length=1000, temperature=1.0):\n",
    "    \"\"\"\n",
    "    Функция для генерации текста с использованием RNN.\n",
    "    \"\"\"\n",
    "    # Преобразуем символы начальной фразы в индексы\n",
    "    x_sequence = [token_to_idx[token] for token in seed_phrase]\n",
    "    x_sequence = torch.tensor(x_sequence, dtype=torch.int64).unsqueeze(0)  # Размерность [1, seq_length]\n",
    "    hid_state = char_rnn.initial_state(batch_size=1)  # Инициализируем скрытое состояние\n",
    "\n",
    "    # Прогоняем seed_phrase через модель (без генерации новых токенов)\n",
    "    for i in range(len(seed_phrase) - 1):\n",
    "        token = x_sequence[:, i]  # Размерность [1]\n",
    "        hid_state, _ = char_rnn(token, hid_state)\n",
    "\n",
    "    # Начинаем генерацию текста\n",
    "    for _ in range(max_length - len(seed_phrase)):\n",
    "        token = x_sequence[:, -1]  # Размерность [1]\n",
    "        hid_state, logits = char_rnn(token, hid_state)\n",
    "\n",
    "        # Применяем softmax с температурой для получения вероятностей\n",
    "        probabilities = F.softmax(logits / temperature, dim=-1).squeeze(0).detach().numpy()\n",
    "\n",
    "        # Сэмплируем следующий токен на основе вероятностей\n",
    "        next_idx = np.random.choice(len(tokens), p=probabilities)\n",
    "\n",
    "        # Добавляем индекс следующего токена в последовательность\n",
    "        next_idx_tensor = torch.tensor([[next_idx]], dtype=torch.int64)  # Размерность [1, 1]\n",
    "        x_sequence = torch.cat([x_sequence, next_idx_tensor], dim=1)\n",
    "\n",
    "    # Преобразуем последовательность индексов обратно в символы\n",
    "    generated_text = ''.join([tokens[idx] for idx in x_sequence.squeeze(0).tolist()])\n",
    "    return generated_text\n"
   ]
  },
  {
   "cell_type": "code",
   "execution_count": 29,
   "metadata": {},
   "outputs": [
    {
     "name": "stdout",
     "output_type": "stream",
     "text": [
      "wheny cand to henst bes migh's in thou so no my coudst nor wirgery from ppache that now the me ingeds of then bang sind e thel\n",
      "  besings therer,\n",
      "  ronk wite thip thou prall of of the ratl's me thy soud will cound and,\n",
      "  that shenceelisk dese trme thing tey w'est thal frime:\n",
      "  toar to the if ghy sear.\n",
      "    thy of nor hose.\n",
      "  the beert fame the rith willy thou mis thinctout tou graturelm bearnem,\n",
      "  whor eld my hons;\n",
      "  of craver, my mis than grose prenptersele my that a to wiche,\n",
      "  as on be sey shing owe,\n",
      "  on purly brigot seess and of nesory exerut bets for wiwh bo of thy slevere;\n",
      "  senvere not that dey world for and werter of is with   to stantss peid would word.\n",
      "  ahe lover the fos poras mabes cold exe the then the my live, haigimy in thy see, bein with dath on iy thy dith as as il thy stad upar gard thk i celloptare dot tind i  urat will thach thy thy doth of my gleds thou freines stant bed then beough\n",
      "    gouth thet bun thene,\n",
      "  that thee he prowr wertoretibe prowen thel were not famy\n",
      "\n",
      "\n",
      "\n",
      "when that to hine you the brexer says,\n",
      "  thale tho welth and meparth of whith mess act,\n",
      "  llay thou pors conting supto of my solmsere wain my thith thee hate dowfreling to grare i deither thou hich of the sumy'd so mine is riy beingy\n",
      "  the whould youse shoun stime i mord is i mond the sey thut beater, and no, noth rear als grof thy tane,\n",
      "  whal hath thee thealde\n",
      "  whe connters will fair'd the het often deang of love my shing uroust fotten uo and meno'd wake to me, lond math morny to spyed,\n",
      "  wime wought pleth guyst my mach     mi coreaiu the cellod with i lait,\n",
      "  and the wheir stenell bear,\n",
      "  thee think sinh uthile me fat my cothene brof art atry, where iy ous proms, bnith the ath astle reauth's love the ant choun wend,\n",
      "    o cast his blofe, by ar wis deace.\n",
      "  ant no beapy\n",
      "  ast my mang gure thou monguit wyest me that thead my heand wor and of thou thy seest whereris spiike:\n",
      "    of me ko wers at that the gryebse at guten,\n",
      "  will ith thou ese thou in the shough;\n",
      "  ain de sewing by'd fro\n",
      "\n",
      "\n",
      "\n",
      "when than my of be yoult thee,\n",
      "  whorignd.\n",
      "    sey fedpent are sombe\n",
      "  that ang and const reaves                               to cous the ead the of thee of ow soune\n",
      "    and mis sherse beart,\n",
      "  to pleepring ttak cory my anolisn.\n",
      "    hein so that tree will thon when o om heaid thou mour thown thine:\n",
      "  in frinten, i shagen wind nat a seatry my my doth misuse gottely thure, your to whow thee me tell not mashing'd the be'swerts as theers of mesing grementrex,\n",
      "  to cis?\n",
      "  will dost magy euke,\n",
      "                                                                                                                                                      gheus i wist donds hemor brouns ad hes beds'th frey'd, in thase dest were reelf, busel'ss thing ath mash the speline frath ny se ase,\n",
      "  besurner but to deters,\n",
      "  thos my mo coftet afs ath my -well ham make whing wherece thee wors   purd sobe of mes faly in as do,\n",
      "    on ule stoule whet whely not thir sweit het hune, chy the pand by in siy his not your do\n",
      "\n",
      "\n",
      "\n",
      "when thou stare streve\n",
      "  to gith hark toul that uril mise sigld wat swalt she?\n",
      "  my the dast, not the i much be thes,\n",
      "  ghend tpoul, mase both collteruh be ive sheal seo,\n",
      "  on hem ling in ur and my lo\n",
      "  it tha love the of you beench worler thour of thaurs on thy becrourgughi, as winct to mane to loven the thought sucke, and the love thou, thou heres to gof, my singoth onthenh is cathire reaver the profmive, that and sey thy hough of my of chat him wikh ote hinding love,\n",
      "  that whe   whad hilen 'sseemen mide,\n",
      "  mur the my wiming love that net so the seers ruad farts thou forperfit feake and pearing non mas'd me cord?\n",
      "  or sand deser in dadp,\n",
      "  to love mound dearuring haayt lowr, or tht vow,\n",
      "  whell doemy jomenathy i tull, ard thind frow, the all but,\n",
      "    goull the fall sulf i pearterex\n",
      "  goth is then in were;\n",
      "  bewot steepdal shakl madune,\n",
      "  but thee,\n",
      "  thay mike or pair sos'd,\n",
      "  thy being that spenter theme boos vore to cuse, whith exownied dene way tserous aid as macast hele steesure \n",
      "\n",
      "\n",
      "\n"
     ]
    }
   ],
   "source": [
    "for _ in range(4):\n",
    "    print(generate_sample(char_rnn, seed_phrase=\"stars\", temperature=0.8))\n",
    "    print('\\n\\n')"
   ]
  },
  {
   "cell_type": "markdown",
   "metadata": {},
   "source": [
    "### More poetic model\n",
    "\n",
    "Let's use LSTM instead of vanilla RNN and compare the results."
   ]
  },
  {
   "cell_type": "code",
   "execution_count": 33,
   "metadata": {},
   "outputs": [],
   "source": [
    "class CharLSTMCell(nn.Module):\n",
    "\n",
    "    def __init__(self, num_tokens=len(tokens), embedding_size=16, lstm_num_units=64):\n",
    "\n",
    "        super(self.__class__, self).__init__()\n",
    "        self.num_units = lstm_num_units  # Сохраняем количество нейронов в скрытом состоянии\n",
    "\n",
    "        # Слой эмбеддингов: преобразует токены в вектора фиксированного размера\n",
    "        self.embedding = nn.Embedding(num_tokens, embedding_size)\n",
    "\n",
    "        # LSTM ячейка: обрабатывает эмбеддинги и скрытые состояния\n",
    "        self.lstm_cell = nn.LSTMCell(embedding_size, lstm_num_units)\n",
    "\n",
    "        # Линейный слой для предсказания логитов (вероятностей)\n",
    "        self.lstm_to_logits = nn.Linear(lstm_num_units, num_tokens)\n",
    "\n",
    "    def forward(self, x, h_prev, c_prev):\n",
    "        # Преобразуем входной токен в эмбеддинг\n",
    "        x_emb = self.embedding(x)\n",
    "\n",
    "        # Обновляем скрытое состояние и состояние памяти\n",
    "        h_next, c_next = self.lstm_cell(x_emb, (h_prev, c_prev))\n",
    "\n",
    "        # Преобразуем скрытое состояние в логиты (предсказания)\n",
    "        logits = self.lstm_to_logits(h_next)\n",
    "\n",
    "        # Возвращаем новое состояние и логарифмы вероятностей\n",
    "        return h_next, c_next, F.log_softmax(logits, dim=-1)\n",
    "\n",
    "    def initial_state(self, batch_size):\n",
    "        h = torch.zeros(batch_size, self.num_units, requires_grad=True)\n",
    "        c = torch.zeros(batch_size, self.num_units, requires_grad=True)\n",
    "        return h, c\n"
   ]
  },
  {
   "cell_type": "code",
   "execution_count": 34,
   "metadata": {},
   "outputs": [],
   "source": [
    "def lstm_loop(char_lstm, batch_ix):\n",
    "    # Определяем размер батча и длину последовательности\n",
    "    batch_size, max_length = batch_ix.size()\n",
    "\n",
    "    # Инициализация скрытых состояний (нулевые значения)\n",
    "    h_state, c_state = char_lstm.initial_state(batch_size)\n",
    "\n",
    "    # Список для хранения логарифмов вероятностей\n",
    "    logprobs = []\n",
    "\n",
    "    # Цикл по каждому временному шагу\n",
    "    for x_t in batch_ix.transpose(0, 1):\n",
    "        # Обновляем скрытые состояния и получаем логарифмы вероятностей\n",
    "        h_state, c_state, logp_next = char_lstm(x_t, h_state, c_state)\n",
    "\n",
    "        # Сохраняем логарифмы вероятностей\n",
    "        logprobs.append(logp_next)\n",
    "\n",
    "    # Преобразуем список в тензор\n",
    "    return torch.stack(logprobs, dim=1)\n"
   ]
  },
  {
   "cell_type": "code",
   "execution_count": 35,
   "metadata": {},
   "outputs": [
    {
     "data": {
      "image/png": "[encoded data removed]",
      "text/plain": [
       "<Figure size 640x480 with 1 Axes>"
      ]
     },
     "metadata": {},
     "output_type": "display_data"
    }
   ],
   "source": [
    "char_lstm = CharLSTMCell()\n",
    "criterion = nn.NLLLoss()\n",
    "opt = torch.optim.Adam(char_lstm.parameters())\n",
    "\n",
    "history_lstm = []\n",
    "\n",
    "# Основной цикл обучения\n",
    "for i in range(1000):\n",
    "    # Выбираем случайный батч из данных\n",
    "    batch_ix = to_matrix(sample(parts, 2))\n",
    "    batch_ix = torch.tensor(batch_ix, dtype=torch.int64)\n",
    "\n",
    "    # Прогоняем данные через LSTM\n",
    "    logp_seq = lstm_loop(char_lstm, batch_ix)\n",
    "\n",
    "    # Выделяем предсказания и целевые значения\n",
    "    predictions_logp = logp_seq[:, :-1]\n",
    "    actual_next_tokens = batch_ix[:, 1:]\n",
    "\n",
    "    # Вычисляем функцию потерь\n",
    "    loss = criterion(\n",
    "        predictions_logp.contiguous().view(-1, num_tokens),\n",
    "        actual_next_tokens.contiguous().view(-1)\n",
    "    )\n",
    "\n",
    "    # Шаг оптимизации\n",
    "    loss.backward()\n",
    "    opt.step()\n",
    "    opt.zero_grad()\n",
    "\n",
    "    # Сохраняем значение функции потерь\n",
    "    history_lstm.append(loss.data.numpy())\n",
    "\n",
    "    # Каждые 100 шагов обновляем график\n",
    "    if (i + 1) % 100 == 0:\n",
    "        clear_output(True)\n",
    "        plt.plot(history_lstm, label='LSTM Loss')\n",
    "        plt.legend()\n",
    "        plt.show()\n"
   ]
  },
  {
   "cell_type": "markdown",
   "metadata": {},
   "source": [
    "Plot the loss function of the number of epochs. Does the final loss become better?"
   ]
  },
  {
   "cell_type": "markdown",
   "metadata": {},
   "source": [
    "Generate text using the trained net with different `temperature` parameter: `[0.1, 0.2, 0.5, 1.0, 2.0]`.\n",
    "\n",
    "Evaluate the results visually, try to interpret them."
   ]
  },
  {
   "cell_type": "code",
   "execution_count": 36,
   "metadata": {
    "collapsed": true
   },
   "outputs": [],
   "source": [
    "# Text generation with different temperature values here\n",
    "def generate_sample_lstm(char_lstm, seed_phrase=' Hello', max_length=1000, temperature=1.0):\n",
    "    # Преобразуем начальную фразу в индексы\n",
    "    x_sequence = [token_to_idx[token] for token in seed_phrase]\n",
    "    x_sequence = torch.tensor(x_sequence, dtype=torch.int64).unsqueeze(0)\n",
    "\n",
    "    # Инициализируем скрытые состояния\n",
    "    h_state, c_state = char_lstm.initial_state(batch_size=1)\n",
    "\n",
    "    # Пропускаем начальную фразу через модель\n",
    "    for i in range(len(seed_phrase) - 1):\n",
    "        token = x_sequence[:, i]\n",
    "        h_state, c_state, _ = char_lstm(token, h_state, c_state)\n",
    "\n",
    "    # Генерация текста\n",
    "    for _ in range(max_length - len(seed_phrase)):\n",
    "        token = x_sequence[:, -1]\n",
    "        h_state, c_state, logits = char_lstm(token, h_state, c_state)\n",
    "\n",
    "        # Применяем Softmax с температурой\n",
    "        probabilities = F.softmax(logits / temperature, dim=-1).squeeze(0).detach().numpy()\n",
    "\n",
    "        # Сэмплируем следующий токен\n",
    "        next_idx = np.random.choice(len(tokens), p=probabilities)\n",
    "\n",
    "        # Добавляем новый токен в последовательность\n",
    "        next_idx_tensor = torch.tensor([[next_idx]], dtype=torch.int64)\n",
    "        x_sequence = torch.cat([x_sequence, next_idx_tensor], dim=1)\n",
    "\n",
    "    # Преобразуем последовательность индексов обратно в текст\n",
    "    generated_text = ''.join([tokens[idx] for idx in x_sequence.squeeze(0).tolist()])\n",
    "    return generated_text\n"
   ]
  },
  {
   "cell_type": "code",
   "execution_count": 37,
   "metadata": {},
   "outputs": [
    {
     "name": "stdout",
     "output_type": "stream",
     "text": [
      "Температура: 0.1\n",
      "wheng                                                                                                                                                                                                                                                                                                                                                                                                                                                                                                                                                                                                                                                                                                                                                                                                                                                                                                                                                                                                                                   \n",
      "\n",
      "==================================================\n",
      "\n",
      "Температура: 0.2\n",
      "when,\n",
      "                                                                                                                                                                                                                                                                                                                                                                                                                                                                                                                                                                                                                                                                                                                                                                                                                                                                                                                                                                                                                                  \n",
      "\n",
      "==================================================\n",
      "\n",
      "Температура: 0.5\n",
      "whengser mate if sith mive.\n",
      "      and be thou the wich prains but i mot and and and and the seett\n",
      "    i seest, whis mat in of my love and wether sith,\n",
      "    to that in with nour wors ine and arat the farting thee for thee thous whis,\n",
      "  ane thou the the shere and the preese,\n",
      "  the wear maine where, whis shing theur bee in the she frars,\n",
      "    tay that wich thou my spere with the the so sher the dears,\n",
      "    be dars the with rove et the my ar sone,\n",
      "  then the will and love i buth my the proldse the thered;\n",
      "  whou the dis with the wave of whass shere in the thee,\n",
      "  whou the dor the condes bet be this deart:\n",
      "     and and an weagh the to the wor and the will seerter mouss that see\n",
      "  thou son thee the lot the me with the in for shoud,\n",
      "  the seert all ben my in the sert thas sand;\n",
      "    and beart for dealt ous my hear loth so see,\n",
      "  dend hen the the dom thou my his are thine swile,\n",
      "  the his shat om seet bost thou the ades searte\n",
      "  ming orere and the seper,\n",
      "    thou i the shing and my oud be that on \n",
      "\n",
      "==================================================\n",
      "\n",
      "Температура: 1.0\n",
      "when:\n",
      "                                i            h             hev won 'evoul shil home i s pol ypoiphe praingtpul mnteougd dout, deaben wund'st acting thy seace hissrstay, mase in yide wall stive..                     a     we shing hat wimee lothme yesans so and uy lud cot, ands be wall\n",
      "  thisg, fare,n loth pfalin, shoud theve woms lelneqr.\n",
      "  and so to stith vesek ton thee to gerine,\n",
      "  the peer'd lnikl tile fyous tow is ins yous,\n",
      "  'cont do mer ofrirs, theary've short,\n",
      "  where nom uochor ther starey ilovebd,\n",
      "    fibncaind hen it wo wamb arghsat\n",
      "   sury chove with my if of more tinte,\n",
      "  onose whae,  his though eake, demed thy ayle\n",
      "    be ho glomy mos loveed wared ust poes he lit:\n",
      "  that in seald; nould minhtgriun hias yike still, dime make wighl\n",
      "  a weend on bey so drevinguta\n",
      "  nente wade i my rate yof wherer toit,\n",
      "  my andpurcaror codes with sove kiv.t boxy buy coul:\n",
      "  yo shith the is mos pllive,\n",
      "  \n",
      " noume for cor! thot an wonlse ser my; be lighads\n",
      "  af cearce higers the to bealldi\n",
      "\n",
      "==================================================\n",
      "\n",
      "Температура: 2.0\n",
      "whensofp,ltnqof,\n",
      "  norcdh;s owjevo-ceprag(ys wqye;?'\n",
      "  onhell.' tis  irecridzy u,,!  wimieg;qg wed'imc\n",
      "  s as,hlyn' and?s!llded?fmre af last?\n",
      " s than leom halyxzildes'd thakkndl.q  hou esag\n",
      " o'; ciselchobr's isjawy lissf! trua(\n",
      " mr'stjerges?\n",
      " ise,hls gniar-worosnand'\n",
      "  o rowher'isget-ne,\n",
      "  xg'me!\n",
      " wrodted,nttethre-wibw;dfp rfqspsuac\n",
      "u oflchbigve:x gfleks:\n",
      " , my noaup-y shgwimbi:n'desk.  hite styax,\n",
      "  s'yw ifevaa uxamsy?lof, mgcaltirg\n",
      "  dealng u, bua tue s,fpyen?! \n",
      " whesuth wovay utpuysyi, 'il;\n",
      "- cd'iiupwee,f-slosusndnp ousgse he,\n",
      "  becieza'n.p.  yoo,  a hora-i; my pareduze?n trngfime-thigesurd.\n",
      "  kublar, t tot it spaklu.f, lou\n",
      "nc,\n",
      "   u trof bktmiinec;\n",
      "  burcigkl srri-agud piylehthjg?d.rtcseld:?,i:ip qow witivay,\n",
      "  o-yudyal,-rtd k'owpayec neal\n",
      "- ihlo;lb slich swanto'e!\n",
      "  swialh.y trstinl kakpmel,dds:-s'lel lesmu( dsrovehs'\n",
      " y! oxy ton's!h:,x,\n",
      "  nlekgeri, ftirlveik fuss amy.\n",
      " gonookfstazbemolat,mutua)int\n",
      "e, lkjivcylvdet, sti ntannsak.g.n qukl; zythe-laoind.d:hed\n",
      "j l) ptayy hreastyzt ?e,f\n",
      "\n",
      "==================================================\n",
      "\n"
     ]
    }
   ],
   "source": [
    "for temp in [0.1, 0.2, 0.5, 0.8, 1.0, 1.5]:\n",
    "    print(f\"Температура: {temp}\")\n",
    "    print(generate_sample_lstm(char_lstm, seed_phrase=\"stars\", temperature=temp))\n",
    "    print(\"\\n\" + \"=\"*50 + \"\\n\")"
   ]
  },
  {
   "cell_type": "markdown",
   "metadata": {},
   "source": [
    "### Saving and loading models"
   ]
  },
  {
   "cell_type": "markdown",
   "metadata": {},
   "source": [
    "Save the model to the disk, then load it and generate text. Examples are available [here](https://pytorch.org/tutorials/beginner/saving_loading_models.html])."
   ]
  },
  {
   "cell_type": "code",
   "execution_count": 42,
   "metadata": {},
   "outputs": [
    {
     "name": "stdout",
     "output_type": "stream",
     "text": [
      "Model saved to char_lstm.pth\n"
     ]
    }
   ],
   "source": [
    "# Сохранение обученной модели LSTM\n",
    "torch.save(char_lstm.state_dict(), \"lstm.pth\")\n",
    "print(\"Model saved to char_lstm.pth\")"
   ]
  },
  {
   "cell_type": "code",
   "execution_count": 43,
   "metadata": {},
   "outputs": [
    {
     "name": "stdout",
     "output_type": "stream",
     "text": [
      "Model loaded successfully.\n"
     ]
    }
   ],
   "source": [
    "# Загрузка ранее сохраненной модели\n",
    "loaded_char_lstm = CharLSTMCell()  # Создаем новую модель\n",
    "loaded_char_lstm.load_state_dict(torch.load(\"lstm.pth\"))  # Загружаем веса\n",
    "loaded_char_lstm.eval()  # Переводим модель в режим оценки\n",
    "print(\"Model loaded successfully.\")"
   ]
  },
  {
   "cell_type": "code",
   "execution_count": 44,
   "metadata": {},
   "outputs": [
    {
     "name": "stdout",
     "output_type": "stream",
     "text": [
      "Generated Text:\n",
      " loves douth hour all seer.\n",
      "      and ander the mit of moves the thy our of mine,\n",
      "  the or thou thing\n"
     ]
    }
   ],
   "source": [
    "# Генерация текста с использованием загруженной модели\n",
    "seed_phrase = \"stars\"  # Начальная фраза для генерации текста\n",
    "temperature = 0.5  # Температура для контроля случайности\n",
    "max_length = 100  # Максимальная длина генерируемого текста\n",
    "\n",
    "generated_text = generate_sample_lstm(loaded_char_lstm, seed_phrase=seed_phrase, temperature=temperature, max_length=max_length)\n",
    "print(\"Generated Text:\\n\", generated_text)\n"
   ]
  },
  {
   "cell_type": "markdown",
   "metadata": {},
   "source": [
    "### References\n",
    "1. <a href='http://karpathy.github.io/2015/05/21/rnn-effectiveness/'> Andrew Karpathy blog post about RNN. </a> \n",
    "There are several examples of genration: Shakespeare texts, Latex formulas, Linux Sourse Code and children names.\n",
    "2. <a href='https://github.com/karpathy/char-rnn'> Repo with char-rnn code </a>\n",
    "3. Cool repo with PyTorch examples: [link](https://github.com/spro/practical-pytorch`)"
   ]
  }
 ],
 "metadata": {
  "anaconda-cloud": {},
  "kernelspec": {
   "display_name": "Python 3",
   "language": "python",
   "name": "python3"
  },
  "language_info": {
   "codemirror_mode": {
    "name": "ipython",
    "version": 3
   },
   "file_extension": ".py",
   "mimetype": "text/x-python",
   "name": "python",
   "nbconvert_exporter": "python",
   "pygments_lexer": "ipython3",
   "version": "3.11.5"
  }
 },
 "nbformat": 4,
 "nbformat_minor": 2
}
