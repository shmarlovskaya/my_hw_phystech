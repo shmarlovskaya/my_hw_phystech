{
  "cells": [
    {
      "cell_type": "markdown",
      "metadata": {
        "id": "1t_DHH3XVrni"
      },
      "source": [
        "*Credits: materials from this notebook belong to YSDA [Practical DL](https://github.com/yandexdataschool/Practical_DL) course. Special thanks for making them available online.*"
      ]
    },
    {
      "cell_type": "markdown",
      "metadata": {
        "id": "xbDWtkMjVrnj"
      },
      "source": [
        "# Lab assignment №1, part 1\n",
        "\n",
        "This lab assignment consists of several parts. You are supposed to make some transformations, train some models, estimate the quality of the models and explain your results.\n",
        "\n",
        "Several comments:\n",
        "* Don't hesitate to ask questions, it's a good practice.\n",
        "* No private/public sharing, please. The copied assignments will be graded with 0 points.\n",
        "* Blocks of this lab will be graded separately."
      ]
    },
    {
      "cell_type": "code",
      "source": [],
      "metadata": {
        "id": "ZZ2Il4X5dp3X"
      },
      "execution_count": null,
      "outputs": []
    },
    {
      "cell_type": "markdown",
      "metadata": {
        "id": "CcjTZLjsVrnk"
      },
      "source": [
        "## 1. Matrix differentiation"
      ]
    },
    {
      "cell_type": "markdown",
      "metadata": {
        "id": "2ZC62agHVrnl"
      },
      "source": [
        "Since it easy to google every task please please please try to undestand what's going on. The \"just answer\" thing will be not counted, make sure to present derivation of your solution. It is absolutely OK if you found an answer on web then just exercise in $\\LaTeX$ copying it into here."
      ]
    },
    {
      "cell_type": "markdown",
      "metadata": {
        "id": "eRqZDbJ8Vrnl"
      },
      "source": [
        "Useful links:\n",
        "[1](http://www.machinelearning.ru/wiki/images/2/2a/Matrix-Gauss.pdf)\n",
        "[2](http://www.atmos.washington.edu/~dennis/MatrixCalculus.pdf)"
      ]
    },
    {
      "cell_type": "markdown",
      "metadata": {
        "id": "H6M6YqbFVrnm"
      },
      "source": [
        "## ex. 1"
      ]
    },
    {
      "cell_type": "markdown",
      "metadata": {
        "id": "Sn6ZCkVVVrnm"
      },
      "source": [
        "$$  \n",
        "y = x^Tx,  \\quad x \\in \\mathbb{R}^N\n",
        "$$"
      ]
    },
    {
      "cell_type": "markdown",
      "metadata": {
        "id": "w16gdcRbVrnn"
      },
      "source": [
        "$$\n",
        "\\frac{dy}{dx} =\n",
        "$$"
      ]
    },
    {
      "cell_type": "markdown",
      "metadata": {
        "id": "vv5sTO7eVrnn"
      },
      "source": [
        "Дано:\n",
        "\n",
        "$$\n",
        "y = x^T x\n",
        "$$\n",
        "\n",
        "где\n",
        "\n",
        "$$\n",
        "x \\in \\mathbb{R}^N\n",
        "$$\n",
        "\n",
        "Для вычисления производной\n",
        "\n",
        "$$\n",
        "\\frac{dy}{dx}\n",
        "$$\n",
        "\n",
        "следуем следующим шагам:\n",
        "\n",
        "1. **Перепишем выражение**: Представим \\( y \\) в виде матричного произведения:\n",
        "\n",
        "   $$\n",
        "   y = x^T x = \\sum_{i=1}^N x_i^2\n",
        "   $$\n",
        "\n",
        "2. **Дифференцируем по \\( x \\)**: Вычислим производную\n",
        "\n",
        "   $$\n",
        "   \\frac{dy}{dx}\n",
        "   $$\n",
        "\n",
        "   которая представляет собой вектор частных производных:\n",
        "\n",
        "   $$\n",
        "   \\frac{\\partial y}{\\partial x_i} = 2x_i\n",
        "   $$\n",
        "\n",
        "3. **Запишем результат в векторной форме**: Объединим все частные производные в одно выражение:\n",
        "\n",
        "   $$\n",
        "   \\frac{dy}{dx} = 2x\n",
        "   $$\n",
        "\n",
        "Таким образом, итоговый результат:\n",
        "\n",
        "$$\n",
        "\\frac{dy}{dx} = 2x\n",
        "$$\n"
      ]
    },
    {
      "cell_type": "markdown",
      "metadata": {
        "id": "4iW13tKkVrno"
      },
      "source": [
        "## ex. 2"
      ]
    },
    {
      "cell_type": "markdown",
      "metadata": {
        "id": "ya9riXpmVrno"
      },
      "source": [
        "$$ y = tr(AB) \\quad A,B \\in \\mathbb{R}^{N \\times N} $$"
      ]
    },
    {
      "cell_type": "markdown",
      "metadata": {
        "id": "rUduT46UVrno"
      },
      "source": [
        "$$\n",
        "\\frac{dy}{dA} =\n",
        "$$"
      ]
    },
    {
      "cell_type": "markdown",
      "metadata": {
        "id": "0vHeSkCLVrnp"
      },
      "source": [
        "$$\n",
        "\\text{Дано:}\n",
        "$$\n",
        "\n",
        "$$\n",
        "y = \\operatorname{tr}(AB)\n",
        "$$\n",
        "\n",
        "$$\n",
        "A, B \\in \\mathbb{R}^{N \\times N}\n",
        "$$\n",
        "\n",
        "$$\n",
        "\\text{Наша цель — вычислить производную}\n",
        "$$\n",
        "\n",
        "$$\n",
        "\\frac{dy}{dA}\n",
        "$$\n",
        "\n",
        "$$\n",
        "\\text{Решение:}\n",
        "$$\n",
        "\n",
        "1. $$ \\text{Используем правило производной следа:} $$  \n",
        "   $$ \\text{Напомним, что производная } \\operatorname{tr}(AX) \\text{ по } A \\text{ равна } X^T. $$  \n",
        "   $$ \\text{Это свойство можно напрямую применить к } \\operatorname{tr}(AB). $$\n",
        "\n",
        "2. $$ \\text{Выполним дифференцирование:} $$  \n",
        "   $$ \\text{Так как } \\operatorname{tr}(AB) \\text{ — это скалярная функция, а мы дифференцируем её по } A, \\text{ результат будет:} $$\n",
        "\n",
        "   $$\n",
        "   \\frac{dy}{dA} = B^T\n",
        "   $$\n",
        "\n",
        "$$\n",
        "\\text{Таким образом, окончательный результат:}\n",
        "$$\n",
        "\n",
        "$$\n",
        "\\frac{dy}{dA} = B^T\n",
        "$$\n"
      ]
    },
    {
      "cell_type": "markdown",
      "metadata": {
        "id": "XiASDcLYVrnp"
      },
      "source": [
        "## ex. 3"
      ]
    },
    {
      "cell_type": "markdown",
      "metadata": {
        "id": "gnb5CEtkVrnp"
      },
      "source": [
        "$$  \n",
        "y = x^TAc , \\quad A\\in \\mathbb{R}^{N \\times N}, x\\in \\mathbb{R}^{N}, c\\in \\mathbb{R}^{N}\n",
        "$$"
      ]
    },
    {
      "cell_type": "markdown",
      "metadata": {
        "id": "wIxGBYgoVrnp"
      },
      "source": [
        "$$\n",
        "\\frac{dy}{dx} =\n",
        "$$"
      ]
    },
    {
      "cell_type": "markdown",
      "metadata": {
        "id": "hgjOa-D5Vrnp"
      },
      "source": [
        "$$\n",
        "\\frac{dy}{dA} =\n",
        "$$"
      ]
    },
    {
      "cell_type": "markdown",
      "metadata": {
        "id": "IauMQ7gJVrnp"
      },
      "source": [
        "Hint for the latter (one of the ways): use *ex. 2* result and the fact\n",
        "$$\n",
        "tr(ABC) = tr (CAB)\n",
        "$$"
      ]
    },
    {
      "cell_type": "markdown",
      "metadata": {
        "id": "X7vj9dQ1Vrnp"
      },
      "source": [
        "$$\n",
        "\\text{Дано:}\n",
        "$$\n",
        "\n",
        "$$\n",
        "y = x^T A c\n",
        "$$\n",
        "\n",
        "$$\n",
        "A \\in \\mathbb{R}^{N \\times N}, \\quad x \\in \\mathbb{R}^N, \\quad c \\in \\mathbb{R}^N\n",
        "$$\n",
        "\n",
        "$$\n",
        "\\text{Наша цель — вычислить:}\n",
        "$$\n",
        "\n",
        "$$\n",
        "\\frac{dy}{dx}\n",
        "$$\n",
        "\n",
        "и\n",
        "\n",
        "$$\n",
        "\\frac{dy}{dA}.\n",
        "$$\n",
        "\n",
        "### $$ \\text{Решение} $$\n",
        "\n",
        "1. $$ \\text{Производная по } x $$\n",
        "\n",
        "   $$ \\text{Сначала перепишем } y, \\text{ чтобы выделить его зависимость от } x: $$\n",
        "\n",
        "   $$\n",
        "   y = x^T (A c)\n",
        "   $$\n",
        "\n",
        "   $$ \\text{Здесь } A c \\text{ — это просто вектор в } \\mathbb{R}^N. \\text{ Поскольку } y \\text{ линейно зависит от } x, \\text{ производная по } x \\text{ равна:} $$\n",
        "\n",
        "   $$\n",
        "   \\frac{dy}{dx} = A c\n",
        "   $$\n",
        "\n",
        "2. $$ \\text{Производная по } A $$\n",
        "\n",
        "   $$ \\text{Для лучшего понимания зависимости от } A \\text{ перепишем } y, \\text{ используя обозначение следа:} $$\n",
        "\n",
        "   $$\n",
        "   y = \\operatorname{tr}(x^T A c) = \\operatorname{tr}(A c x^T)\n",
        "   $$\n",
        "\n",
        "   $$ \\text{Здесь мы использовали циклическое свойство следа: } \\operatorname{tr}(ABC) = \\operatorname{tr}(CAB). $$\n",
        "\n",
        "   $$ \\text{Применяя правило производной следа, где производная } \\operatorname{tr}(AX) \\text{ по } A \\text{ равна } X^T, \\text{ и подставляя } X = c x^T, \\text{ получаем:} $$\n",
        "\n",
        "   $$\n",
        "   \\frac{dy}{dA} = (c x^T)^T = x c^T\n",
        "   $$\n",
        "\n",
        "### $$ \\text{Итоговый результат} $$\n",
        "\n",
        "$$\n",
        "\\frac{dy}{dx} = A c\n",
        "$$\n",
        "\n",
        "и\n",
        "\n",
        "$$\n",
        "\\frac{dy}{dA} = x c^T\n",
        "$$\n"
      ]
    },
    {
      "cell_type": "markdown",
      "metadata": {
        "id": "UT6O7E-MVrnq"
      },
      "source": [
        "## ex. 4"
      ]
    },
    {
      "cell_type": "markdown",
      "metadata": {
        "id": "38OhkrpaVrnq"
      },
      "source": [
        "Classic matrix factorization example. Given matrix $X$ you need to find $A$, $S$ to approximate $X$. This can be done by simple gradient descent iteratively alternating $A$ and $S$ updates.\n",
        "$$\n",
        "J = || X - AS ||_F^2  , \\quad A\\in \\mathbb{R}^{N \\times R} , \\quad S\\in \\mathbb{R}^{R \\times M}\n",
        "$$\n",
        "$$\n",
        "\\frac{dJ}{dS} = ?\n",
        "$$\n",
        "\n",
        "You may use one of the following approaches:"
      ]
    },
    {
      "cell_type": "markdown",
      "metadata": {
        "id": "u_iOrB8BVrnq"
      },
      "source": [
        "#### First approach\n",
        "Using ex.2 and the fact:\n",
        "$$\n",
        "|| X ||_F^2 = tr(XX^T)\n",
        "$$\n",
        "it is easy to derive gradients (you can find it in one of the refs)."
      ]
    },
    {
      "cell_type": "markdown",
      "metadata": {
        "id": "yhFqRPgkVrnq"
      },
      "source": [
        "#### Second approach\n",
        "You can use *slightly different techniques* if they suits you. Take a look at this derivation:\n",
        "<img src=\"grad.png\">\n",
        "(excerpt from [Handbook of blind source separation, Jutten, page 517](https://books.google.ru/books?id=PTbj03bYH6kC&printsec=frontcover&dq=Handbook+of+Blind+Source+Separation&hl=en&sa=X&ved=0ahUKEwi-q_apiJDLAhULvXIKHVXJDWcQ6AEIHDAA#v=onepage&q=Handbook%20of%20Blind%20Source%20Separation&f=false), open for better picture)."
      ]
    },
    {
      "cell_type": "markdown",
      "metadata": {
        "id": "1rweeD1EVrnq"
      },
      "source": [
        "#### Third approach\n",
        "And finally we can use chain rule!\n",
        "let $ F = AS $\n",
        "\n",
        "**Find**\n",
        "$$\n",
        "\\frac{dJ}{dF} =  \n",
        "$$\n",
        "and\n",
        "$$\n",
        "\\frac{dF}{dS} =  \n",
        "$$\n",
        "(the shape should be $ NM \\times RM )$.\n",
        "\n",
        "Now it is easy do get desired gradients:\n",
        "$$\n",
        "\\frac{dJ}{dS} =  \n",
        "$$"
      ]
    },
    {
      "cell_type": "markdown",
      "metadata": {
        "id": "Sa9BVrR3Vrnq"
      },
      "source": [
        "Классическая задача матричной факторизации: дана матрица \\( X \\), необходимо найти \\( A \\) и \\( S \\), такие что \\( AS \\) приближает \\( X \\). Это может быть выполнено с использованием градиентного спуска, где мы итеративно обновляем \\( A \\) и \\( S \\).\n",
        "\n",
        "Функция цели определяется как:\n",
        "\n",
        "$$\n",
        "J = \\|X - AS\\|^2_F\n",
        "$$\n",
        "\n",
        "где\n",
        "\n",
        "$$\n",
        "A \\in \\mathbb{R}^{N \\times R}, \\quad S \\in \\mathbb{R}^{R \\times M}.\n",
        "$$\n",
        "\n",
        "Наша цель — вычислить:\n",
        "\n",
        "$$\n",
        "\\frac{dJ}{dS}.\n",
        "$$\n",
        "\n",
        "---\n",
        "\n",
        "### Подходы к решению\n",
        "\n",
        "1. **Использование свойства нормы Фробениуса**\n",
        "\n",
        "   Напомним, что норма Фробениуса может быть выражена как:\n",
        "\n",
        "   $$\n",
        "   \\|X\\|^2_F = \\operatorname{tr}(X X^T).\n",
        "   $$\n",
        "\n",
        "   Это свойство может быть использовано для вывода градиента \\( J \\). Детальное описание можно найти в учебных или исследовательских материалах.\n",
        "\n",
        "---\n",
        "\n",
        "2. **Альтернативное представление**\n",
        "\n",
        "   Вы также можете вывести градиент, используя методы, описанные в таких ресурсах, как *Handbook of Blind Source Separation* авторства Jutten. Этот подход включает другой набор упрощений и может предложить полезные идеи для специфических приложений.\n",
        "\n",
        "---\n",
        "\n",
        "3. **Использование правила цепочки**\n",
        "\n",
        "   Определим промежуточную матрицу:\n",
        "\n",
        "   $$\n",
        "   F = AS.\n",
        "   $$\n",
        "\n",
        "   Сначала вычислим:\n",
        "\n",
        "   $$\n",
        "   \\frac{dJ}{dF}.\n",
        "   $$\n",
        "\n",
        "   Поскольку \\( J = \\|X - F\\|^2_F \\), производная по \\( F \\) равна:\n",
        "\n",
        "   $$\n",
        "   \\frac{dJ}{dF} = -2(X - F).\n",
        "   $$\n",
        "\n",
        "   Далее, вычислим производную \\( F \\) по \\( S \\). Поскольку \\( F = AS \\):\n",
        "\n",
        "   $$\n",
        "   \\frac{dF}{dS} = A,\n",
        "   $$\n",
        "\n",
        "   где \\( A \\) применяется к каждому столбцу матрицы \\( S \\).\n",
        "\n",
        "   Используя правило цепочки, градиент \\( J \\) по \\( S \\) вычисляется как:\n",
        "\n",
        "   $$\n",
        "   \\frac{dJ}{dS} = A^T \\frac{dJ}{dF}.\n",
        "   $$\n",
        "\n",
        "   Подставляя \\( \\frac{dJ}{dF} = -2(X - AS) \\), получаем:\n",
        "\n",
        "   $$\n",
        "   \\frac{dJ}{dS} = -2 A^T (X - AS).\n",
        "   $$\n",
        "\n",
        "---\n",
        "\n",
        "### Итоговый градиент\n",
        "\n",
        "Градиент \\( J \\) по \\( S \\) равен:\n",
        "\n",
        "$$\n",
        "\\frac{dJ}{dS} = -2 A^T (X - AS).\n",
        "$$\n"
      ]
    },
    {
      "cell_type": "markdown",
      "metadata": {
        "collapsed": true,
        "jupyter": {
          "outputs_hidden": true
        },
        "id": "hVFr_r8NVrnq"
      },
      "source": [
        "## 2. kNN questions\n",
        "Here come the questions from the assignment0_01. Please, refer to the assignment0_01 to get the context of the questions."
      ]
    },
    {
      "cell_type": "markdown",
      "metadata": {
        "id": "fefU-xgHVrnq"
      },
      "source": [
        "### Вопрос 1\n",
        "\n",
        "#### Причины ярких строк в матрице расстояний\n",
        "\n",
        "**Ответ:**  \n",
        "Яркие строки в матрице расстояний указывают на точки, которые значительно удалены от остальных точек в наборе данных. Это может быть связано с тем, что такие точки являются выбросами или находятся в мало населённых зонах пространства данных. Высокие расстояния до остальных точек делают соответствующие строки в матрице заметно яркими. Подобное поведение обусловлено структурой данных, в которой некоторые точки имеют уникальные свойства или находятся вдали от плотных кластеров.\n",
        "\n",
        "---\n",
        "\n",
        "#### Причины ярких столбцов в матрице расстояний\n",
        "\n",
        "**Ответ:**  \n",
        "Яркие столбцы в матрице расстояний свидетельствуют о том, что некоторые точки или группы точек находятся на большом расстоянии от остальных данных. Это может быть вызвано наличием специфических признаков, выделяющих эти точки. Например, если определённые точки имеют аномальные значения по некоторым измерениям, это приводит к значительным расстояниям относительно остальных. Такие особенности часто встречаются в наборах данных с выраженными кластерами или выбросами, где данные точки существенно отличаются от других групп.\n"
      ]
    },
    {
      "cell_type": "markdown",
      "metadata": {
        "id": "QSOYN0KTVrnq"
      },
      "source": [
        "### Question 2\n",
        "\n",
        "We can also use other distance metrics such as L1 distance.\n",
        "For pixel values $p_{ij}^{(k)}$ at location $(i,j)$ of some image $I_k$,\n",
        "\n",
        "the mean $\\mu$ across all pixels over all images is $$\\mu=\\frac{1}{nhw}\\sum_{k=1}^n\\sum_{i=1}^{h}\\sum_{j=1}^{w}p_{ij}^{(k)}$$\n",
        "And the pixel-wise mean $\\mu_{ij}$ across all images is\n",
        "$$\\mu_{ij}=\\frac{1}{n}\\sum_{k=1}^np_{ij}^{(k)}.$$\n",
        "The general standard deviation $\\sigma$ and pixel-wise standard deviation $\\sigma_{ij}$ is defined similarly.\n",
        "\n",
        "Which of the following preprocessing steps will not change the performance of a Nearest Neighbor classifier that uses L1 distance? Select all that apply.\n",
        "1. Subtracting the mean $\\mu$ ($\\tilde{p}_{ij}^{(k)}=p_{ij}^{(k)}-\\mu$.)\n",
        "2. Subtracting the per pixel mean $\\mu_{ij}$  ($\\tilde{p}_{ij}^{(k)}=p_{ij}^{(k)}-\\mu_{ij}$.)\n",
        "3. Subtracting the mean $\\mu$ and dividing by the standard deviation $\\sigma$.\n",
        "4. Subtracting the pixel-wise mean $\\mu_{ij}$ and dividing by the pixel-wise standard deviation $\\sigma_{ij}$.\n",
        "5. Rotating the coordinate axes of the data.\n",
        "\n",
        "### Ответ и объяснение\n",
        "\n",
        "1. **Вычитание среднего $\\mu$:**  \n",
        "   Вычитание глобального среднего смещает все точки данных равномерно. Поскольку метрика L1 основана на абсолютных разностях между соответствующими точками, этот шаг не влияет на относительные расстояния.  \n",
        "   **Ответ:** Не изменит производительность.\n",
        "\n",
        "2. **Вычитание поканального среднего $\\mu_{ij}$:**  \n",
        "   Вычитание среднего для каждого пикселя по всем изображениям центрирует каждую координату. Это преобразование сохраняет относительные расстояния между изображениями и не влияет на производительность классификатора, основанного на L1.  \n",
        "   **Ответ:** Не изменит производительность.\n",
        "\n",
        "3. **Вычитание среднего $\\mu$ и деление на стандартное отклонение $\\sigma$:**  \n",
        "   Нормализация данных путем деления на глобальное стандартное отклонение изменяет масштаб расстояний. Это может повлиять на относительные расстояния между точками, что потенциально скажется на производительности классификатора.  \n",
        "   **Ответ:** Может изменить производительность.\n",
        "\n",
        "4. **Вычитание поканального среднего $\\mu_{ij}$ и деление на поканальное стандартное отклонение $\\sigma_{ij}$:**  \n",
        "   Нормализация на уровне каждого пикселя изменяет масштаб данных для каждого пикселя, что может повлиять на относительные расстояния между изображениями.  \n",
        "   **Ответ:** Может изменить производительность.\n",
        "\n",
        "5. **Поворот координатных осей данных:**  \n",
        "   Поворот данных изменяет ориентацию координат, но не влияет на метрику L1, поскольку она инвариантна к таким преобразованиям.  \n",
        "   **Ответ:** Не изменит производительность.\n",
        "\n",
        "---\n",
        "\n",
        "### Итоговый ответ\n",
        "\n",
        "Шаги предобработки, которые **не изменят** производительность классификатора ближайших соседей, основанного на L1:\n",
        "\n",
        "1. Вычитание среднего $\\mu$  \n",
        "2. Вычитание поканального среднего $\\mu_{ij}$  \n",
        "5. Поворот координатных осей данных\n"
      ]
    },
    {
      "cell_type": "markdown",
      "metadata": {
        "id": "cuMwpmidVrnr"
      },
      "source": [
        "## Question 3\n",
        "\n",
        "Which of the following statements about $k$-Nearest Neighbor ($k$-NN) are true in a classification setting, and for all $k$? Select all that apply.\n",
        "\n",
        "1. The decision boundary (hyperplane between classes in feature space) of the $k$-NN classifier is linear.\n",
        "2. The training error of a 1-NN will always be lower than that of 5-NN.\n",
        "3. The test error of a 1-NN will always be lower than that of a 5-NN.\n",
        "4. The time needed to classify a test example with the $k$-NN classifier grows with the size of the training set.\n",
        "5. None of the above.\n",
        "\n",
        "---\n",
        "\n",
        "### Ответ и объяснение:\n",
        "\n",
        "**1. Граница принятия решений $k$-NN классификатора линейна:**  \n",
        "**Неверно.** Граница принятия решений $k$-NN не является линейной; она сильно зависит от распределения обучающих точек в пространстве признаков и имеет нелинейный характер.\n",
        "\n",
        "**2. Ошибка на обучении у 1-NN всегда будет меньше, чем у 5-NN:**  \n",
        "**Верно.** Классификатор 1-NN запоминает обучающие данные и имеет нулевую ошибку на обучении, тогда как 5-NN учитывает больше соседей, что может привести к немного более высокой ошибке на обучении.\n",
        "\n",
        "**3. Ошибка на тесте у 1-NN всегда будет меньше, чем у 5-NN:**  \n",
        "**Неверно.** Хотя 1-NN идеально подгоняется под обучающие данные, он более склонен к переобучению, и его ошибка на тестовых данных часто выше, чем у 5-NN, который обеспечивает лучшее обобщение за счёт усреднения по нескольким соседям.\n",
        "\n",
        "**4. Время, необходимое для классификации тестовой точки с помощью $k$-NN, растёт с размером обучающего набора:**  \n",
        "**Верно.** $k$-NN классификатор должен вычислить расстояния до всех обучающих примеров для каждой тестовой точки, поэтому временная сложность увеличивается с ростом размера обучающего набора.\n",
        "\n",
        "**5. Ничего из вышеперечисленного:**  \n",
        "**Неверно.** Некоторые утверждения (например, 2 и 4) верны.\n",
        "\n",
        "---\n",
        "\n",
        "### Итоговый ответ:\n",
        "Верные утверждения:\n",
        "\n",
        "* 2 Ошибка на обучении у 1-NN всегда будет меньше, чем у 5-NN.\n",
        "* 4 Время, необходимое для классификации тестовой точки с помощью $k$-NN, растёт с размером обучающего набора.\n",
        "\n"
      ]
    }
  ],
  "metadata": {
    "kernelspec": {
      "display_name": "Python 3",
      "language": "python",
      "name": "python3"
    },
    "language_info": {
      "codemirror_mode": {
        "name": "ipython",
        "version": 3
      },
      "file_extension": ".py",
      "mimetype": "text/x-python",
      "name": "python",
      "nbconvert_exporter": "python",
      "pygments_lexer": "ipython3",
      "version": "3.11.5"
    },
    "colab": {
      "provenance": []
    }
  },
  "nbformat": 4,
  "nbformat_minor": 0
}